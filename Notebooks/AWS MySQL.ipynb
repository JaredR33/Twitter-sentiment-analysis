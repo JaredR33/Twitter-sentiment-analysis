{
 "cells": [
  {
   "cell_type": "markdown",
   "metadata": {},
   "source": [
    "# AWS - RDS MySQL\n",
    "### Paquetes requeridos\n",
    "Librería de Python necesaria para establecer conexión a una base de datos MySQL"
   ]
  },
  {
   "cell_type": "markdown",
   "metadata": {},
   "source": [
    "### Credenciales\n",
    "Para acceder a la BD necesitaremos tres datos:\n",
    "1. Endpoint/host: la dirección donde se encuentra el servidor\n",
    "2. Usuario\n",
    "3. Contraseña"
   ]
  },
  {
   "cell_type": "code",
   "execution_count": 34,
   "metadata": {},
   "outputs": [],
   "source": [
    "username = \"admin\"\n",
    "password = \"TheBridgeSchool\"\n",
    "host = \"database-2.cvuovpb4vssk.us-east-2.rds.amazonaws.com\" \n",
    "port = 3306"
   ]
  },
  {
   "cell_type": "markdown",
   "metadata": {},
   "source": [
    "### Conexion BD"
   ]
  },
  {
   "cell_type": "code",
   "execution_count": 35,
   "metadata": {},
   "outputs": [],
   "source": [
    "import pymysql\n",
    "import cryptography"
   ]
  },
  {
   "cell_type": "code",
   "execution_count": 36,
   "metadata": {},
   "outputs": [],
   "source": [
    "'''\n",
    "pymysql.cursors.DictCursor para que los resultados que devuelva sean diccionarios,\n",
    "por defecto devuelve tuplas. Asi podemos acceder por clave a las columnas.\n",
    "'''\n",
    "\n",
    "db = pymysql.connect(host = host,\n",
    "                     user = username,\n",
    "                     password = password,\n",
    "                     cursorclass = pymysql.cursors.DictCursor\n",
    ")\n",
    "\n",
    "# El objeto cursor es el que ejecutará las queries y devolverá los resultados\n",
    "\n",
    "cursor = db.cursor()"
   ]
  },
  {
   "cell_type": "markdown",
   "metadata": {},
   "source": [
    "### Version DB"
   ]
  },
  {
   "cell_type": "code",
   "execution_count": 37,
   "metadata": {},
   "outputs": [
    {
     "name": "stdout",
     "output_type": "stream",
     "text": [
      "MySQL version: {'VERSION()': '8.0.28'}\n"
     ]
    }
   ],
   "source": [
    "'''\n",
    "Este es el engine version de la BD de AWS\n",
    "fechtone trae la primera linea de la consulta\n",
    "El execute() devuelve el numero de filas a las que ha afectado la query,\n",
    "en este caso, devuelve una unica fila.\n",
    "\n",
    "Execute se guarda en la conexion pero hasta que no hacemos commit\n",
    "no se ejecutan las queries\n",
    "de insert de datos y esas cosas...\n",
    "'''\n",
    "\n",
    "cursor.execute('SELECT VERSION()')\n",
    "version = cursor.fetchone()\n",
    "print(f'MySQL version: {version}')"
   ]
  },
  {
   "cell_type": "markdown",
   "metadata": {},
   "source": [
    "### Creación de DB"
   ]
  },
  {
   "cell_type": "code",
   "execution_count": null,
   "metadata": {},
   "outputs": [],
   "source": []
  },
  {
   "cell_type": "code",
   "execution_count": 55,
   "metadata": {},
   "outputs": [
    {
     "data": {
      "text/plain": [
       "1"
      ]
     },
     "execution_count": 55,
     "metadata": {},
     "output_type": "execute_result"
    }
   ],
   "source": [
    "# Creamos una BD. Tenemos una instancia de MySQL, pero no una BD\n",
    "# Los comandos de SQL  se suelen poner en mayuscula\n",
    "create_db = '''CREATE DATABASE tweets_TheBridge'''\n",
    "cursor.execute(create_db)\n",
    "\n"
   ]
  },
  {
   "cell_type": "code",
   "execution_count": 54,
   "metadata": {},
   "outputs": [
    {
     "data": {
      "text/plain": [
       "2"
      ]
     },
     "execution_count": 54,
     "metadata": {},
     "output_type": "execute_result"
    }
   ],
   "source": [
    "# Podemos eliminar la BD\n",
    "drop_db = '''DROP DATABASE tweets_TheBridge'''\n",
    "cursor.execute(drop_db)"
   ]
  },
  {
   "cell_type": "code",
   "execution_count": 56,
   "metadata": {},
   "outputs": [
    {
     "data": {
      "text/plain": [
       "[{'Database': 'information_schema'},\n",
       " {'Database': 'mysql'},\n",
       " {'Database': 'performance_schema'},\n",
       " {'Database': 'respuestas_GPT'},\n",
       " {'Database': 'sys'},\n",
       " {'Database': 'tweets_TheBridge'}]"
      ]
     },
     "execution_count": 56,
     "metadata": {},
     "output_type": "execute_result"
    }
   ],
   "source": [
    "cursor.execute('SHOW DATABASES')\n",
    "cursor.fetchall()"
   ]
  },
  {
   "cell_type": "markdown",
   "metadata": {},
   "source": [
    "### Creación de tablas"
   ]
  },
  {
   "cell_type": "markdown",
   "metadata": {},
   "source": [
    "### Seleccionar la BD"
   ]
  },
  {
   "cell_type": "code",
   "execution_count": 57,
   "metadata": {},
   "outputs": [
    {
     "data": {
      "text/plain": [
       "0"
      ]
     },
     "execution_count": 57,
     "metadata": {},
     "output_type": "execute_result"
    }
   ],
   "source": [
    "# Para usar la BD  recien creada\n",
    "\n",
    "cursor.connection.commit()\n",
    "use_db = ''' USE tweets_TheBridge'''\n",
    "cursor.execute(use_db)"
   ]
  },
  {
   "cell_type": "code",
   "execution_count": 59,
   "metadata": {},
   "outputs": [
    {
     "data": {
      "text/plain": [
       "0"
      ]
     },
     "execution_count": 59,
     "metadata": {},
     "output_type": "execute_result"
    }
   ],
   "source": [
    "# Create two normalized tables, tweets and users\n",
    "create_table = '''\n",
    "CREATE TABLE users (\n",
    "    author_id INTEGER\n",
    ")\n",
    "'''\n",
    "cursor.execute(create_table)"
   ]
  },
  {
   "cell_type": "code",
   "execution_count": 61,
   "metadata": {},
   "outputs": [
    {
     "data": {
      "text/plain": [
       "0"
      ]
     },
     "execution_count": 61,
     "metadata": {},
     "output_type": "execute_result"
    }
   ],
   "source": [
    "# Create two normalized tables, tweets and users\n",
    "\n",
    "create_table = '''\n",
    "CREATE TABLE tweets (\n",
    "  author_id INT,\n",
    "  created_at TEXT,\n",
    "  id INT,\n",
    "  text INT,\n",
    "  impression_count INT,\n",
    "  like_count INT,\n",
    "  quote_count INT,\n",
    "  reply_count INT,\n",
    "  retweet_count INT\n",
    ")\n",
    "\n",
    "'''\n",
    "cursor.execute(create_table)"
   ]
  },
  {
   "cell_type": "code",
   "execution_count": 62,
   "metadata": {},
   "outputs": [
    {
     "data": {
      "text/plain": [
       "[{'Tables_in_tweets_TheBridge': 'tweets'},\n",
       " {'Tables_in_tweets_TheBridge': 'users'}]"
      ]
     },
     "execution_count": 62,
     "metadata": {},
     "output_type": "execute_result"
    }
   ],
   "source": [
    "# checkear todas las tablas que tiene mi db\n",
    "cursor.execute('SHOW TABLES')\n",
    "cursor.fetchall()"
   ]
  },
  {
   "cell_type": "markdown",
   "metadata": {},
   "source": [
    "### Insertar datos"
   ]
  },
  {
   "cell_type": "code",
   "execution_count": 64,
   "metadata": {},
   "outputs": [],
   "source": [
    "import pandas as pd"
   ]
  },
  {
   "cell_type": "code",
   "execution_count": 66,
   "metadata": {},
   "outputs": [],
   "source": [
    "username = \"admin\"\n",
    "password = \"TheBridgeSchool\"\n",
    "host = \"database-2.cvuovpb4vssk.us-east-2.rds.amazonaws.com\" \n",
    "port = 3306"
   ]
  },
  {
   "cell_type": "markdown",
   "metadata": {},
   "source": [
    "### Guardar los cambios\n",
    "Hay que ejecutar el commit antes de cerrar la sesión de la BD para que se guarden todos los cambios"
   ]
  },
  {
   "cell_type": "code",
   "execution_count": 75,
   "metadata": {},
   "outputs": [],
   "source": [
    "db.commit()"
   ]
  },
  {
   "cell_type": "markdown",
   "metadata": {},
   "source": [
    "### Excepciones\n",
    "Se recomienda rodear este tipo de sentencias con un try/except, ya que suele ser software productivo y tiene que saber manejar fallos"
   ]
  },
  {
   "cell_type": "markdown",
   "metadata": {},
   "source": [
    "### Insertar datos de un CSV"
   ]
  },
  {
   "cell_type": "code",
   "execution_count": 83,
   "metadata": {},
   "outputs": [
    {
     "data": {
      "text/html": [
       "<div>\n",
       "<style scoped>\n",
       "    .dataframe tbody tr th:only-of-type {\n",
       "        vertical-align: middle;\n",
       "    }\n",
       "\n",
       "    .dataframe tbody tr th {\n",
       "        vertical-align: top;\n",
       "    }\n",
       "\n",
       "    .dataframe thead th {\n",
       "        text-align: right;\n",
       "    }\n",
       "</style>\n",
       "<table border=\"1\" class=\"dataframe\">\n",
       "  <thead>\n",
       "    <tr style=\"text-align: right;\">\n",
       "      <th></th>\n",
       "      <th>author_id</th>\n",
       "    </tr>\n",
       "  </thead>\n",
       "  <tbody>\n",
       "    <tr>\n",
       "      <th>0</th>\n",
       "      <td>1151510939105144834</td>\n",
       "    </tr>\n",
       "    <tr>\n",
       "      <th>1</th>\n",
       "      <td>570795448</td>\n",
       "    </tr>\n",
       "    <tr>\n",
       "      <th>2</th>\n",
       "      <td>1128860148</td>\n",
       "    </tr>\n",
       "    <tr>\n",
       "      <th>3</th>\n",
       "      <td>570795448</td>\n",
       "    </tr>\n",
       "    <tr>\n",
       "      <th>4</th>\n",
       "      <td>1162694149956603904</td>\n",
       "    </tr>\n",
       "  </tbody>\n",
       "</table>\n",
       "</div>"
      ],
      "text/plain": [
       "             author_id\n",
       "0  1151510939105144834\n",
       "1            570795448\n",
       "2           1128860148\n",
       "3            570795448\n",
       "4  1162694149956603904"
      ]
     },
     "execution_count": 83,
     "metadata": {},
     "output_type": "execute_result"
    }
   ],
   "source": [
    "df_users = pd.DataFrame(df['author_id'])\n",
    "df_users.head()"
   ]
  },
  {
   "cell_type": "code",
   "execution_count": 82,
   "metadata": {},
   "outputs": [
    {
     "data": {
      "text/html": [
       "<div>\n",
       "<style scoped>\n",
       "    .dataframe tbody tr th:only-of-type {\n",
       "        vertical-align: middle;\n",
       "    }\n",
       "\n",
       "    .dataframe tbody tr th {\n",
       "        vertical-align: top;\n",
       "    }\n",
       "\n",
       "    .dataframe thead th {\n",
       "        text-align: right;\n",
       "    }\n",
       "</style>\n",
       "<table border=\"1\" class=\"dataframe\">\n",
       "  <thead>\n",
       "    <tr style=\"text-align: right;\">\n",
       "      <th></th>\n",
       "      <th>author_id</th>\n",
       "      <th>created_at</th>\n",
       "      <th>id</th>\n",
       "      <th>text</th>\n",
       "      <th>impression_count</th>\n",
       "      <th>like_count</th>\n",
       "      <th>quote_count</th>\n",
       "      <th>reply_count</th>\n",
       "      <th>retweet_count</th>\n",
       "    </tr>\n",
       "  </thead>\n",
       "  <tbody>\n",
       "    <tr>\n",
       "      <th>0</th>\n",
       "      <td>1151510939105144834</td>\n",
       "      <td>2022-12-29T16:39:19.000Z</td>\n",
       "      <td>1608502937332113408</td>\n",
       "      <td>Empieza el año formándote en una de las profes...</td>\n",
       "      <td>113</td>\n",
       "      <td>4</td>\n",
       "      <td>0</td>\n",
       "      <td>0</td>\n",
       "      <td>1</td>\n",
       "    </tr>\n",
       "    <tr>\n",
       "      <th>1</th>\n",
       "      <td>570795448</td>\n",
       "      <td>2022-12-29T12:52:11.000Z</td>\n",
       "      <td>1608445776732246017</td>\n",
       "      <td>Los 4 bootcamps tecnológicos de EDEM y @TheBri...</td>\n",
       "      <td>124</td>\n",
       "      <td>2</td>\n",
       "      <td>0</td>\n",
       "      <td>0</td>\n",
       "      <td>0</td>\n",
       "    </tr>\n",
       "    <tr>\n",
       "      <th>2</th>\n",
       "      <td>1128860148</td>\n",
       "      <td>2022-12-29T09:16:11.000Z</td>\n",
       "      <td>1608391421014196224</td>\n",
       "      <td>@EDEMempresarios acoge el 12 de enero un Open ...</td>\n",
       "      <td>49</td>\n",
       "      <td>2</td>\n",
       "      <td>0</td>\n",
       "      <td>0</td>\n",
       "      <td>0</td>\n",
       "    </tr>\n",
       "    <tr>\n",
       "      <th>3</th>\n",
       "      <td>570795448</td>\n",
       "      <td>2022-12-27T09:00:57.000Z</td>\n",
       "      <td>1607662809575292929</td>\n",
       "      <td>Si estás buscando una profesión que te cambie ...</td>\n",
       "      <td>218</td>\n",
       "      <td>5</td>\n",
       "      <td>0</td>\n",
       "      <td>0</td>\n",
       "      <td>0</td>\n",
       "    </tr>\n",
       "    <tr>\n",
       "      <th>4</th>\n",
       "      <td>1162694149956603904</td>\n",
       "      <td>2022-12-23T12:54:06.000Z</td>\n",
       "      <td>1606271930763354112</td>\n",
       "      <td>En @TheBridge_Tech tenemos un deseo para ti💫\\n...</td>\n",
       "      <td>120</td>\n",
       "      <td>1</td>\n",
       "      <td>0</td>\n",
       "      <td>0</td>\n",
       "      <td>1</td>\n",
       "    </tr>\n",
       "  </tbody>\n",
       "</table>\n",
       "</div>"
      ],
      "text/plain": [
       "             author_id                created_at                   id  \\\n",
       "0  1151510939105144834  2022-12-29T16:39:19.000Z  1608502937332113408   \n",
       "1            570795448  2022-12-29T12:52:11.000Z  1608445776732246017   \n",
       "2           1128860148  2022-12-29T09:16:11.000Z  1608391421014196224   \n",
       "3            570795448  2022-12-27T09:00:57.000Z  1607662809575292929   \n",
       "4  1162694149956603904  2022-12-23T12:54:06.000Z  1606271930763354112   \n",
       "\n",
       "                                                text  impression_count  \\\n",
       "0  Empieza el año formándote en una de las profes...               113   \n",
       "1  Los 4 bootcamps tecnológicos de EDEM y @TheBri...               124   \n",
       "2  @EDEMempresarios acoge el 12 de enero un Open ...                49   \n",
       "3  Si estás buscando una profesión que te cambie ...               218   \n",
       "4  En @TheBridge_Tech tenemos un deseo para ti💫\\n...               120   \n",
       "\n",
       "   like_count  quote_count  reply_count  retweet_count  \n",
       "0           4            0            0              1  \n",
       "1           2            0            0              0  \n",
       "2           2            0            0              0  \n",
       "3           5            0            0              0  \n",
       "4           1            0            0              1  "
      ]
     },
     "execution_count": 82,
     "metadata": {},
     "output_type": "execute_result"
    }
   ],
   "source": [
    "df = pd.read_csv('../data/tweets_23&23_@TheBridge.csv', index_col=0)\n",
    "df.head()"
   ]
  },
  {
   "cell_type": "code",
   "execution_count": 68,
   "metadata": {},
   "outputs": [],
   "source": [
    "from sqlalchemy import create_engine\n",
    "\n",
    "# create sqlalchemy engine\n",
    "\n",
    "engine = create_engine(\"mysql+pymysql://{user}:{pw}@{host}/{db}\".format(user = username, pw = password, host = host, db = 'tweets_TheBridge'))\n",
    "# engine = create_engine(\"mysql+pymysql://my_user:my_password@my_host/my_database\")"
   ]
  },
  {
   "cell_type": "code",
   "execution_count": 70,
   "metadata": {},
   "outputs": [],
   "source": [
    "# insertamos todo el dataframe en users\n",
    "df_users.to_sql(name='users', con=engine, if_exists= 'append', index=False)\n"
   ]
  },
  {
   "cell_type": "code",
   "execution_count": 72,
   "metadata": {},
   "outputs": [],
   "source": [
    "# df into tweets tables\n",
    "df.to_sql(name='tweets', con=engine, if_exists= 'append', index=False)"
   ]
  },
  {
   "cell_type": "code",
   "execution_count": null,
   "metadata": {},
   "outputs": [],
   "source": []
  },
  {
   "cell_type": "code",
   "execution_count": 26,
   "metadata": {},
   "outputs": [],
   "source": [
    "db.commit()"
   ]
  },
  {
   "cell_type": "code",
   "execution_count": 78,
   "metadata": {},
   "outputs": [
    {
     "data": {
      "text/plain": [
       "[{'author_id': 2147483647},\n",
       " {'author_id': 570795448},\n",
       " {'author_id': 1128860148},\n",
       " {'author_id': 570795448},\n",
       " {'author_id': 2147483647},\n",
       " {'author_id': 2147483647},\n",
       " {'author_id': 2147483647},\n",
       " {'author_id': 2147483647},\n",
       " {'author_id': 1175646685},\n",
       " {'author_id': 402013017},\n",
       " {'author_id': 1128860148},\n",
       " {'author_id': 570795448},\n",
       " {'author_id': 2147483647},\n",
       " {'author_id': 2147483647},\n",
       " {'author_id': 2147483647},\n",
       " {'author_id': 108885393},\n",
       " {'author_id': 2147483647},\n",
       " {'author_id': 49219057},\n",
       " {'author_id': 2147483647},\n",
       " {'author_id': 146406912},\n",
       " {'author_id': 2147483647},\n",
       " {'author_id': 2147483647},\n",
       " {'author_id': 108885393},\n",
       " {'author_id': 2147483647},\n",
       " {'author_id': 2147483647},\n",
       " {'author_id': 2147483647},\n",
       " {'author_id': 2147483647},\n",
       " {'author_id': 2147483647},\n",
       " {'author_id': 2147483647},\n",
       " {'author_id': 146406912},\n",
       " {'author_id': 146406912},\n",
       " {'author_id': 146406912},\n",
       " {'author_id': 1951117790},\n",
       " {'author_id': 2147483647},\n",
       " {'author_id': 2147483647},\n",
       " {'author_id': 2147483647},\n",
       " {'author_id': 2147483647},\n",
       " {'author_id': 2147483647},\n",
       " {'author_id': 2147483647},\n",
       " {'author_id': 2147483647},\n",
       " {'author_id': 2147483647},\n",
       " {'author_id': 2147483647},\n",
       " {'author_id': 2147483647},\n",
       " {'author_id': 2147483647},\n",
       " {'author_id': 2147483647},\n",
       " {'author_id': 2147483647},\n",
       " {'author_id': 2147483647},\n",
       " {'author_id': 2147483647},\n",
       " {'author_id': 378449449},\n",
       " {'author_id': 2147483647},\n",
       " {'author_id': 2147483647},\n",
       " {'author_id': 137698811},\n",
       " {'author_id': 2147483647},\n",
       " {'author_id': 2147483647},\n",
       " {'author_id': 2147483647},\n",
       " {'author_id': 2147483647},\n",
       " {'author_id': 2147483647},\n",
       " {'author_id': 2147483647},\n",
       " {'author_id': 2147483647},\n",
       " {'author_id': 2147483647},\n",
       " {'author_id': 2147483647},\n",
       " {'author_id': 2147483647},\n",
       " {'author_id': 2147483647},\n",
       " {'author_id': 41545659},\n",
       " {'author_id': 2147483647},\n",
       " {'author_id': 276656109},\n",
       " {'author_id': 1003872445},\n",
       " {'author_id': 763727449},\n",
       " {'author_id': 2147483647},\n",
       " {'author_id': 2147483647},\n",
       " {'author_id': 2147483647},\n",
       " {'author_id': 2147483647},\n",
       " {'author_id': 2147483647},\n",
       " {'author_id': 2147483647},\n",
       " {'author_id': 67324480},\n",
       " {'author_id': 1685197165},\n",
       " {'author_id': 1685197165},\n",
       " {'author_id': 1685197165},\n",
       " {'author_id': 1685197165},\n",
       " {'author_id': 1685197165},\n",
       " {'author_id': 2147483647},\n",
       " {'author_id': 1003872445},\n",
       " {'author_id': 2147483647},\n",
       " {'author_id': 2147483647},\n",
       " {'author_id': 2147483647},\n",
       " {'author_id': 106344840},\n",
       " {'author_id': 2147483647},\n",
       " {'author_id': 2147483647},\n",
       " {'author_id': 2147483647},\n",
       " {'author_id': 2147483647},\n",
       " {'author_id': 10279282},\n",
       " {'author_id': 112458375},\n",
       " {'author_id': 207894341},\n",
       " {'author_id': 2147483647},\n",
       " {'author_id': 2147483647},\n",
       " {'author_id': 2147483647},\n",
       " {'author_id': 2147483647},\n",
       " {'author_id': 55539458},\n",
       " {'author_id': 550417439},\n",
       " {'author_id': 1101664008},\n",
       " {'author_id': 550417439},\n",
       " {'author_id': 2147483647},\n",
       " {'author_id': 550417439},\n",
       " {'author_id': 2147483647},\n",
       " {'author_id': 2147483647},\n",
       " {'author_id': 2147483647},\n",
       " {'author_id': 106344840},\n",
       " {'author_id': 41545659},\n",
       " {'author_id': 2147483647},\n",
       " {'author_id': 2147483647},\n",
       " {'author_id': 2147483647},\n",
       " {'author_id': 550417439},\n",
       " {'author_id': 2147483647},\n",
       " {'author_id': 2147483647},\n",
       " {'author_id': 91876265},\n",
       " {'author_id': 1003872445},\n",
       " {'author_id': 1003872445},\n",
       " {'author_id': 7154412},\n",
       " {'author_id': 866742930},\n",
       " {'author_id': 7154412},\n",
       " {'author_id': 17287251},\n",
       " {'author_id': 17287251},\n",
       " {'author_id': 7154412},\n",
       " {'author_id': 141272779},\n",
       " {'author_id': 17287251},\n",
       " {'author_id': 417307513},\n",
       " {'author_id': 141272779},\n",
       " {'author_id': 17287251},\n",
       " {'author_id': 212364786},\n",
       " {'author_id': 2147483647},\n",
       " {'author_id': 7154412},\n",
       " {'author_id': 1232105203},\n",
       " {'author_id': 2147483647},\n",
       " {'author_id': 163586106},\n",
       " {'author_id': 41545659},\n",
       " {'author_id': 41545659},\n",
       " {'author_id': 41545659},\n",
       " {'author_id': 2147483647},\n",
       " {'author_id': 2147483647},\n",
       " {'author_id': 2147483647},\n",
       " {'author_id': 2147483647},\n",
       " {'author_id': 2147483647},\n",
       " {'author_id': 1003872445},\n",
       " {'author_id': 570795448},\n",
       " {'author_id': 271028835},\n",
       " {'author_id': 2147483647},\n",
       " {'author_id': 10279282},\n",
       " {'author_id': 2147483647},\n",
       " {'author_id': 2147483647}]"
      ]
     },
     "execution_count": 78,
     "metadata": {},
     "output_type": "execute_result"
    }
   ],
   "source": [
    "# leemos los datos para comprobar que se han ingestado correctamente\n",
    "sql = '''SELECT * FROM users'''\n",
    "cursor.execute(sql)\n",
    "mi_tabla = cursor.fetchall()\n",
    "mi_tabla"
   ]
  },
  {
   "cell_type": "markdown",
   "metadata": {},
   "source": [
    "### Cerrar la conexión cuando acabemos"
   ]
  },
  {
   "cell_type": "code",
   "execution_count": 79,
   "metadata": {},
   "outputs": [],
   "source": [
    "# Cerrar conexión mysql\n",
    "db.close()\n",
    "# Cerrar conexión sqlalchuemy\n",
    "engine.dispose()"
   ]
  }
 ],
 "metadata": {
  "interpreter": {
   "hash": "90139cb9a825bf3d63f6f6704e828dbd1ff7edbd4d0c6e906a71235d6efc74af"
  },
  "kernelspec": {
   "display_name": "Python 3.7.4 64-bit",
   "language": "python",
   "name": "python3"
  },
  "language_info": {
   "codemirror_mode": {
    "name": "ipython",
    "version": 3
   },
   "file_extension": ".py",
   "mimetype": "text/x-python",
   "name": "python",
   "nbconvert_exporter": "python",
   "pygments_lexer": "ipython3",
   "version": "3.7.4"
  }
 },
 "nbformat": 4,
 "nbformat_minor": 4
}
