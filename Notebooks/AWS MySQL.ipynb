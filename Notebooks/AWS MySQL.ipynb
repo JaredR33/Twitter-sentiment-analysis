{
 "cells": [
  {
   "cell_type": "markdown",
   "metadata": {},
   "source": [
    "# AWS - RDS MySQL\n",
    "### Paquetes requeridos\n",
    "Librería de Python necesaria para establecer conexión a una base de datos MySQL"
   ]
  },
  {
   "cell_type": "markdown",
   "metadata": {},
   "source": [
    "### Credenciales\n",
    "Para acceder a la BD necesitaremos tres datos:\n",
    "1. Endpoint/host: la dirección donde se encuentra el servidor\n",
    "2. Usuario\n",
    "3. Contraseña"
   ]
  },
  {
   "cell_type": "code",
   "execution_count": 34,
   "metadata": {},
   "outputs": [],
   "source": [
    "username = \"admin\"\n",
    "password = \"TheBridgeSchool\"\n",
    "host = \"database-2.cvuovpb4vssk.us-east-2.rds.amazonaws.com\" \n",
    "port = 3306"
   ]
  },
  {
   "cell_type": "markdown",
   "metadata": {},
   "source": [
    "### Conexion BD"
   ]
  },
  {
   "cell_type": "code",
   "execution_count": 35,
   "metadata": {},
   "outputs": [],
   "source": [
    "import pymysql\n",
    "import cryptography"
   ]
  },
  {
   "cell_type": "code",
   "execution_count": 36,
   "metadata": {},
   "outputs": [],
   "source": [
    "'''\n",
    "pymysql.cursors.DictCursor para que los resultados que devuelva sean diccionarios,\n",
    "por defecto devuelve tuplas. Asi podemos acceder por clave a las columnas.\n",
    "'''\n",
    "\n",
    "db = pymysql.connect(host = host,\n",
    "                     user = username,\n",
    "                     password = password,\n",
    "                     cursorclass = pymysql.cursors.DictCursor\n",
    ")\n",
    "\n",
    "# El objeto cursor es el que ejecutará las queries y devolverá los resultados\n",
    "\n",
    "cursor = db.cursor()"
   ]
  },
  {
   "cell_type": "markdown",
   "metadata": {},
   "source": [
    "### Version DB"
   ]
  },
  {
   "cell_type": "code",
   "execution_count": 37,
   "metadata": {},
   "outputs": [
    {
     "name": "stdout",
     "output_type": "stream",
     "text": [
      "MySQL version: {'VERSION()': '8.0.28'}\n"
     ]
    }
   ],
   "source": [
    "'''\n",
    "Este es el engine version de la BD de AWS\n",
    "fechtone trae la primera linea de la consulta\n",
    "El execute() devuelve el numero de filas a las que ha afectado la query,\n",
    "en este caso, devuelve una unica fila.\n",
    "\n",
    "Execute se guarda en la conexion pero hasta que no hacemos commit\n",
    "no se ejecutan las queries\n",
    "de insert de datos y esas cosas...\n",
    "'''\n",
    "\n",
    "cursor.execute('SELECT VERSION()')\n",
    "version = cursor.fetchone()\n",
    "print(f'MySQL version: {version}')"
   ]
  },
  {
   "cell_type": "markdown",
   "metadata": {},
   "source": [
    "### Creación de DB"
   ]
  },
  {
   "cell_type": "code",
   "execution_count": null,
   "metadata": {},
   "outputs": [],
   "source": []
  },
  {
   "cell_type": "code",
   "execution_count": 55,
   "metadata": {},
   "outputs": [
    {
     "data": {
      "text/plain": [
       "1"
      ]
     },
     "execution_count": 55,
     "metadata": {},
     "output_type": "execute_result"
    }
   ],
   "source": [
    "# Creamos una BD. Tenemos una instancia de MySQL, pero no una BD\n",
    "# Los comandos de SQL  se suelen poner en mayuscula\n",
    "create_db = '''CREATE DATABASE tweets_TheBridge'''\n",
    "cursor.execute(create_db)\n",
    "\n"
   ]
  },
  {
   "cell_type": "code",
   "execution_count": 54,
   "metadata": {},
   "outputs": [
    {
     "data": {
      "text/plain": [
       "2"
      ]
     },
     "execution_count": 54,
     "metadata": {},
     "output_type": "execute_result"
    }
   ],
   "source": [
    "# Podemos eliminar la BD\n",
    "drop_db = '''DROP DATABASE tweets_TheBridge'''\n",
    "cursor.execute(drop_db)"
   ]
  },
  {
   "cell_type": "code",
   "execution_count": 56,
   "metadata": {},
   "outputs": [
    {
     "data": {
      "text/plain": [
       "[{'Database': 'information_schema'},\n",
       " {'Database': 'mysql'},\n",
       " {'Database': 'performance_schema'},\n",
       " {'Database': 'respuestas_GPT'},\n",
       " {'Database': 'sys'},\n",
       " {'Database': 'tweets_TheBridge'}]"
      ]
     },
     "execution_count": 56,
     "metadata": {},
     "output_type": "execute_result"
    }
   ],
   "source": [
    "cursor.execute('SHOW DATABASES')\n",
    "cursor.fetchall()"
   ]
  },
  {
   "cell_type": "markdown",
   "metadata": {},
   "source": [
    "### Creación de tablas"
   ]
  },
  {
   "cell_type": "markdown",
   "metadata": {},
   "source": [
    "### Seleccionar la BD"
   ]
  },
  {
   "cell_type": "code",
   "execution_count": 57,
   "metadata": {},
   "outputs": [
    {
     "data": {
      "text/plain": [
       "0"
      ]
     },
     "execution_count": 57,
     "metadata": {},
     "output_type": "execute_result"
    }
   ],
   "source": [
    "# Para usar la BD  recien creada\n",
    "\n",
    "cursor.connection.commit()\n",
    "use_db = ''' USE tweets_TheBridge'''\n",
    "cursor.execute(use_db)"
   ]
  },
  {
   "cell_type": "code",
   "execution_count": 59,
   "metadata": {},
   "outputs": [
    {
     "data": {
      "text/plain": [
       "0"
      ]
     },
     "execution_count": 59,
     "metadata": {},
     "output_type": "execute_result"
    }
   ],
   "source": [
    "# Create two normalized tables, tweets and users\n",
    "create_table = '''\n",
    "CREATE TABLE users (\n",
    "    author_id INTEGER\n",
    ")\n",
    "'''\n",
    "cursor.execute(create_table)"
   ]
  },
  {
   "cell_type": "code",
   "execution_count": 61,
   "metadata": {},
   "outputs": [
    {
     "data": {
      "text/plain": [
       "0"
      ]
     },
     "execution_count": 61,
     "metadata": {},
     "output_type": "execute_result"
    }
   ],
   "source": [
    "# Create two normalized tables, tweets and users\n",
    "\n",
    "create_table = '''\n",
    "CREATE TABLE tweets (\n",
    "  author_id INT,\n",
    "  created_at TEXT,\n",
    "  id INT,\n",
    "  text INT,\n",
    "  impression_count INT,\n",
    "  like_count INT,\n",
    "  quote_count INT,\n",
    "  reply_count INT,\n",
    "  retweet_count INT\n",
    ")\n",
    "\n",
    "'''\n",
    "cursor.execute(create_table)"
   ]
  },
  {
   "cell_type": "code",
   "execution_count": 62,
   "metadata": {},
   "outputs": [
    {
     "data": {
      "text/plain": [
       "[{'Tables_in_tweets_TheBridge': 'tweets'},\n",
       " {'Tables_in_tweets_TheBridge': 'users'}]"
      ]
     },
     "execution_count": 62,
     "metadata": {},
     "output_type": "execute_result"
    }
   ],
   "source": [
    "# checkear todas las tablas que tiene mi db\n",
    "cursor.execute('SHOW TABLES')\n",
    "cursor.fetchall()"
   ]
  },
  {
   "cell_type": "markdown",
   "metadata": {},
   "source": [
    "### Insertar datos"
   ]
  },
  {
   "cell_type": "code",
   "execution_count": 12,
   "metadata": {},
   "outputs": [
    {
     "data": {
      "text/plain": [
       "1"
      ]
     },
     "execution_count": 12,
     "metadata": {},
     "output_type": "execute_result"
    }
   ],
   "source": [
    "insert_data = '''\n",
    "INSERT INTO country (name, continent, population, gdp)\n",
    "VALUES ('Spain', 'Europe', 47, 1.74)\n",
    "'''\n",
    "cursor.execute(insert_data)"
   ]
  },
  {
   "cell_type": "code",
   "execution_count": 64,
   "metadata": {},
   "outputs": [],
   "source": [
    "import pandas as pd"
   ]
  },
  {
   "cell_type": "code",
   "execution_count": 65,
   "metadata": {},
   "outputs": [
    {
     "data": {
      "text/html": [
       "<div>\n",
       "<style scoped>\n",
       "    .dataframe tbody tr th:only-of-type {\n",
       "        vertical-align: middle;\n",
       "    }\n",
       "\n",
       "    .dataframe tbody tr th {\n",
       "        vertical-align: top;\n",
       "    }\n",
       "\n",
       "    .dataframe thead th {\n",
       "        text-align: right;\n",
       "    }\n",
       "</style>\n",
       "<table border=\"1\" class=\"dataframe\">\n",
       "  <thead>\n",
       "    <tr style=\"text-align: right;\">\n",
       "      <th></th>\n",
       "      <th>author_id</th>\n",
       "      <th>created_at</th>\n",
       "      <th>id</th>\n",
       "      <th>text</th>\n",
       "      <th>impression_count</th>\n",
       "      <th>like_count</th>\n",
       "      <th>quote_count</th>\n",
       "      <th>reply_count</th>\n",
       "      <th>retweet_count</th>\n",
       "    </tr>\n",
       "  </thead>\n",
       "  <tbody>\n",
       "    <tr>\n",
       "      <th>0</th>\n",
       "      <td>1151510939105144834</td>\n",
       "      <td>2022-12-29T16:39:19.000Z</td>\n",
       "      <td>1608502937332113408</td>\n",
       "      <td>Empieza el año formándote en una de las profes...</td>\n",
       "      <td>113</td>\n",
       "      <td>4</td>\n",
       "      <td>0</td>\n",
       "      <td>0</td>\n",
       "      <td>1</td>\n",
       "    </tr>\n",
       "    <tr>\n",
       "      <th>1</th>\n",
       "      <td>570795448</td>\n",
       "      <td>2022-12-29T12:52:11.000Z</td>\n",
       "      <td>1608445776732246017</td>\n",
       "      <td>Los 4 bootcamps tecnológicos de EDEM y @TheBri...</td>\n",
       "      <td>124</td>\n",
       "      <td>2</td>\n",
       "      <td>0</td>\n",
       "      <td>0</td>\n",
       "      <td>0</td>\n",
       "    </tr>\n",
       "    <tr>\n",
       "      <th>2</th>\n",
       "      <td>1128860148</td>\n",
       "      <td>2022-12-29T09:16:11.000Z</td>\n",
       "      <td>1608391421014196224</td>\n",
       "      <td>@EDEMempresarios acoge el 12 de enero un Open ...</td>\n",
       "      <td>49</td>\n",
       "      <td>2</td>\n",
       "      <td>0</td>\n",
       "      <td>0</td>\n",
       "      <td>0</td>\n",
       "    </tr>\n",
       "    <tr>\n",
       "      <th>3</th>\n",
       "      <td>570795448</td>\n",
       "      <td>2022-12-27T09:00:57.000Z</td>\n",
       "      <td>1607662809575292929</td>\n",
       "      <td>Si estás buscando una profesión que te cambie ...</td>\n",
       "      <td>218</td>\n",
       "      <td>5</td>\n",
       "      <td>0</td>\n",
       "      <td>0</td>\n",
       "      <td>0</td>\n",
       "    </tr>\n",
       "    <tr>\n",
       "      <th>4</th>\n",
       "      <td>1162694149956603904</td>\n",
       "      <td>2022-12-23T12:54:06.000Z</td>\n",
       "      <td>1606271930763354112</td>\n",
       "      <td>En @TheBridge_Tech tenemos un deseo para ti💫\\n...</td>\n",
       "      <td>120</td>\n",
       "      <td>1</td>\n",
       "      <td>0</td>\n",
       "      <td>0</td>\n",
       "      <td>1</td>\n",
       "    </tr>\n",
       "  </tbody>\n",
       "</table>\n",
       "</div>"
      ],
      "text/plain": [
       "             author_id                created_at                   id  \\\n",
       "0  1151510939105144834  2022-12-29T16:39:19.000Z  1608502937332113408   \n",
       "1            570795448  2022-12-29T12:52:11.000Z  1608445776732246017   \n",
       "2           1128860148  2022-12-29T09:16:11.000Z  1608391421014196224   \n",
       "3            570795448  2022-12-27T09:00:57.000Z  1607662809575292929   \n",
       "4  1162694149956603904  2022-12-23T12:54:06.000Z  1606271930763354112   \n",
       "\n",
       "                                                text  impression_count  \\\n",
       "0  Empieza el año formándote en una de las profes...               113   \n",
       "1  Los 4 bootcamps tecnológicos de EDEM y @TheBri...               124   \n",
       "2  @EDEMempresarios acoge el 12 de enero un Open ...                49   \n",
       "3  Si estás buscando una profesión que te cambie ...               218   \n",
       "4  En @TheBridge_Tech tenemos un deseo para ti💫\\n...               120   \n",
       "\n",
       "   like_count  quote_count  reply_count  retweet_count  \n",
       "0           4            0            0              1  \n",
       "1           2            0            0              0  \n",
       "2           2            0            0              0  \n",
       "3           5            0            0              0  \n",
       "4           1            0            0              1  "
      ]
     },
     "execution_count": 65,
     "metadata": {},
     "output_type": "execute_result"
    }
   ],
   "source": [
    "\n",
    "df = pd.read_csv('../data/tweets_23&23_@TheBridge.csv', index_col=0)\n",
    "df.head()"
   ]
  },
  {
   "cell_type": "code",
   "execution_count": 48,
   "metadata": {},
   "outputs": [
    {
     "data": {
      "text/plain": [
       "149"
      ]
     },
     "execution_count": 48,
     "metadata": {},
     "output_type": "execute_result"
    }
   ],
   "source": [
    "len(df['id'].unique())"
   ]
  },
  {
   "cell_type": "code",
   "execution_count": 66,
   "metadata": {},
   "outputs": [],
   "source": [
    "username = \"admin\"\n",
    "password = \"TheBridgeSchool\"\n",
    "host = \"database-2.cvuovpb4vssk.us-east-2.rds.amazonaws.com\" \n",
    "port = 3306"
   ]
  },
  {
   "cell_type": "code",
   "execution_count": 14,
   "metadata": {},
   "outputs": [
    {
     "data": {
      "text/plain": [
       "1"
      ]
     },
     "execution_count": 14,
     "metadata": {},
     "output_type": "execute_result"
    }
   ],
   "source": [
    "insert_data = '''\n",
    "INSERT INTO country (name, continent, population, gdp)\n",
    "VALUES ('%s', '%s', '%s', '%s')\n",
    "''' % (name,continent,population,gdp)\n",
    "\n",
    "cursor.execute(insert_data)"
   ]
  },
  {
   "cell_type": "markdown",
   "metadata": {},
   "source": [
    "### Leer datos"
   ]
  },
  {
   "cell_type": "code",
   "execution_count": 15,
   "metadata": {},
   "outputs": [
    {
     "data": {
      "text/plain": [
       "2"
      ]
     },
     "execution_count": 15,
     "metadata": {},
     "output_type": "execute_result"
    }
   ],
   "source": [
    "sql = '''SELECT * FROM country'''\n",
    "cursor.execute(sql)"
   ]
  },
  {
   "cell_type": "code",
   "execution_count": 16,
   "metadata": {},
   "outputs": [
    {
     "data": {
      "text/plain": [
       "2"
      ]
     },
     "execution_count": 16,
     "metadata": {},
     "output_type": "execute_result"
    }
   ],
   "source": [
    "mi_lista = cursor.fetchall()\n",
    "len(mi_lista)"
   ]
  },
  {
   "cell_type": "code",
   "execution_count": 17,
   "metadata": {},
   "outputs": [
    {
     "data": {
      "text/plain": [
       "[{'id': 1,\n",
       "  'name': 'Spain',\n",
       "  'continent': 'Europe',\n",
       "  'population': 47,\n",
       "  'gdp': 1.74},\n",
       " {'id': 2,\n",
       "  'name': 'France',\n",
       "  'continent': 'Europe',\n",
       "  'population': 54,\n",
       "  'gdp': 2.0}]"
      ]
     },
     "execution_count": 17,
     "metadata": {},
     "output_type": "execute_result"
    }
   ],
   "source": [
    "mi_lista"
   ]
  },
  {
   "cell_type": "markdown",
   "metadata": {},
   "source": [
    "### Guardar los cambios\n",
    "Hay que ejecutar el commit antes de cerrar la sesión de la BD para que se guarden todos los cambios"
   ]
  },
  {
   "cell_type": "code",
   "execution_count": 75,
   "metadata": {},
   "outputs": [],
   "source": [
    "db.commit()"
   ]
  },
  {
   "cell_type": "markdown",
   "metadata": {},
   "source": [
    "### Excepciones\n",
    "Se recomienda rodear este tipo de sentencias con un try/except, ya que suele ser software productivo y tiene que saber manejar fallos"
   ]
  },
  {
   "cell_type": "code",
   "execution_count": 76,
   "metadata": {},
   "outputs": [
    {
     "name": "stdout",
     "output_type": "stream",
     "text": [
      "[{'author_id': 2147483647, 'created_at': '2022-12-29T16:39:19.000Z', 'id': 2147483647, 'text': 0, 'impression_count': 113, 'like_count': 4, 'quote_count': 0, 'reply_count': 0, 'retweet_count': 1}, {'author_id': 570795448, 'created_at': '2022-12-29T12:52:11.000Z', 'id': 2147483647, 'text': 0, 'impression_count': 124, 'like_count': 2, 'quote_count': 0, 'reply_count': 0, 'retweet_count': 0}, {'author_id': 1128860148, 'created_at': '2022-12-29T09:16:11.000Z', 'id': 2147483647, 'text': 0, 'impression_count': 49, 'like_count': 2, 'quote_count': 0, 'reply_count': 0, 'retweet_count': 0}, {'author_id': 570795448, 'created_at': '2022-12-27T09:00:57.000Z', 'id': 2147483647, 'text': 0, 'impression_count': 218, 'like_count': 5, 'quote_count': 0, 'reply_count': 0, 'retweet_count': 0}, {'author_id': 2147483647, 'created_at': '2022-12-23T12:54:06.000Z', 'id': 2147483647, 'text': 0, 'impression_count': 120, 'like_count': 1, 'quote_count': 0, 'reply_count': 0, 'retweet_count': 1}, {'author_id': 2147483647, 'created_at': '2022-12-22T23:51:18.000Z', 'id': 2147483647, 'text': 0, 'impression_count': 108, 'like_count': 3, 'quote_count': 0, 'reply_count': 0, 'retweet_count': 0}, {'author_id': 2147483647, 'created_at': '2022-12-22T09:59:38.000Z', 'id': 2147483647, 'text': 0, 'impression_count': 142, 'like_count': 2, 'quote_count': 0, 'reply_count': 0, 'retweet_count': 0}, {'author_id': 2147483647, 'created_at': '2022-12-22T08:55:25.000Z', 'id': 2147483647, 'text': 0, 'impression_count': 308, 'like_count': 4, 'quote_count': 0, 'reply_count': 0, 'retweet_count': 4}, {'author_id': 1175646685, 'created_at': '2022-12-21T13:15:56.000Z', 'id': 2147483647, 'text': 0, 'impression_count': 321, 'like_count': 7, 'quote_count': 0, 'reply_count': 0, 'retweet_count': 1}, {'author_id': 402013017, 'created_at': '2022-12-21T12:30:01.000Z', 'id': 2147483647, 'text': 0, 'impression_count': 538, 'like_count': 5, 'quote_count': 0, 'reply_count': 0, 'retweet_count': 2}, {'author_id': 1128860148, 'created_at': '2022-12-21T11:34:12.000Z', 'id': 2147483647, 'text': 0, 'impression_count': 149, 'like_count': 4, 'quote_count': 0, 'reply_count': 0, 'retweet_count': 1}, {'author_id': 570795448, 'created_at': '2022-12-21T10:12:46.000Z', 'id': 2147483647, 'text': 0, 'impression_count': 329, 'like_count': 6, 'quote_count': 0, 'reply_count': 0, 'retweet_count': 3}, {'author_id': 2147483647, 'created_at': '2022-12-16T10:45:37.000Z', 'id': 2147483647, 'text': 0, 'impression_count': 26, 'like_count': 1, 'quote_count': 0, 'reply_count': 0, 'retweet_count': 0}, {'author_id': 2147483647, 'created_at': '2022-12-13T18:53:22.000Z', 'id': 2147483647, 'text': 0, 'impression_count': 0, 'like_count': 2, 'quote_count': 0, 'reply_count': 0, 'retweet_count': 0}, {'author_id': 2147483647, 'created_at': '2022-12-13T08:12:57.000Z', 'id': 2147483647, 'text': 0, 'impression_count': 0, 'like_count': 4, 'quote_count': 0, 'reply_count': 0, 'retweet_count': 4}, {'author_id': 108885393, 'created_at': '2022-12-12T08:15:33.000Z', 'id': 2147483647, 'text': 0, 'impression_count': 0, 'like_count': 3, 'quote_count': 0, 'reply_count': 0, 'retweet_count': 0}, {'author_id': 2147483647, 'created_at': '2022-12-07T15:07:46.000Z', 'id': 2147483647, 'text': 0, 'impression_count': 0, 'like_count': 1, 'quote_count': 0, 'reply_count': 0, 'retweet_count': 1}, {'author_id': 49219057, 'created_at': '2022-12-06T18:40:34.000Z', 'id': 2147483647, 'text': 0, 'impression_count': 0, 'like_count': 1, 'quote_count': 1, 'reply_count': 1, 'retweet_count': 0}, {'author_id': 2147483647, 'created_at': '2022-12-06T10:00:16.000Z', 'id': 2147483647, 'text': 0, 'impression_count': 0, 'like_count': 3, 'quote_count': 0, 'reply_count': 0, 'retweet_count': 1}, {'author_id': 146406912, 'created_at': '2022-12-05T18:21:51.000Z', 'id': 2147483647, 'text': 0, 'impression_count': 0, 'like_count': 1, 'quote_count': 0, 'reply_count': 0, 'retweet_count': 0}, {'author_id': 2147483647, 'created_at': '2022-12-05T14:00:20.000Z', 'id': 2147483647, 'text': 0, 'impression_count': 0, 'like_count': 7, 'quote_count': 0, 'reply_count': 0, 'retweet_count': 2}, {'author_id': 2147483647, 'created_at': '2022-12-03T14:08:46.000Z', 'id': 2147483647, 'text': 0, 'impression_count': 0, 'like_count': 5, 'quote_count': 0, 'reply_count': 0, 'retweet_count': 4}, {'author_id': 108885393, 'created_at': '2022-12-02T08:40:07.000Z', 'id': 2147483647, 'text': 0, 'impression_count': 0, 'like_count': 4, 'quote_count': 0, 'reply_count': 0, 'retweet_count': 1}, {'author_id': 2147483647, 'created_at': '2022-12-01T16:54:08.000Z', 'id': 2147483647, 'text': 0, 'impression_count': 0, 'like_count': 4, 'quote_count': 0, 'reply_count': 0, 'retweet_count': 0}, {'author_id': 2147483647, 'created_at': '2022-12-01T16:01:03.000Z', 'id': 2147483647, 'text': 0, 'impression_count': 0, 'like_count': 0, 'quote_count': 0, 'reply_count': 0, 'retweet_count': 0}, {'author_id': 2147483647, 'created_at': '2022-12-01T15:58:32.000Z', 'id': 2147483647, 'text': 0, 'impression_count': 0, 'like_count': 3, 'quote_count': 0, 'reply_count': 1, 'retweet_count': 2}, {'author_id': 2147483647, 'created_at': '2022-12-01T13:17:27.000Z', 'id': 2147483647, 'text': 0, 'impression_count': 0, 'like_count': 3, 'quote_count': 1, 'reply_count': 0, 'retweet_count': 3}, {'author_id': 2147483647, 'created_at': '2022-12-01T12:45:37.000Z', 'id': 2147483647, 'text': 0, 'impression_count': 0, 'like_count': 5, 'quote_count': 0, 'reply_count': 0, 'retweet_count': 5}, {'author_id': 2147483647, 'created_at': '2022-12-01T02:29:27.000Z', 'id': 2147483647, 'text': 0, 'impression_count': 0, 'like_count': 2, 'quote_count': 0, 'reply_count': 0, 'retweet_count': 2}, {'author_id': 146406912, 'created_at': '2022-11-30T15:55:35.000Z', 'id': 2147483647, 'text': 0, 'impression_count': 0, 'like_count': 0, 'quote_count': 0, 'reply_count': 0, 'retweet_count': 0}, {'author_id': 146406912, 'created_at': '2022-11-30T15:55:34.000Z', 'id': 2147483647, 'text': 0, 'impression_count': 0, 'like_count': 0, 'quote_count': 0, 'reply_count': 0, 'retweet_count': 0}, {'author_id': 146406912, 'created_at': '2022-11-30T15:55:34.000Z', 'id': 2147483647, 'text': 0, 'impression_count': 0, 'like_count': 0, 'quote_count': 0, 'reply_count': 0, 'retweet_count': 0}, {'author_id': 1951117790, 'created_at': '2022-11-30T12:39:00.000Z', 'id': 2147483647, 'text': 0, 'impression_count': 0, 'like_count': 9, 'quote_count': 0, 'reply_count': 0, 'retweet_count': 5}, {'author_id': 2147483647, 'created_at': '2022-11-30T09:45:27.000Z', 'id': 2147483647, 'text': 0, 'impression_count': 0, 'like_count': 5, 'quote_count': 3, 'reply_count': 0, 'retweet_count': 3}, {'author_id': 2147483647, 'created_at': '2022-11-30T09:45:04.000Z', 'id': 2147483647, 'text': 0, 'impression_count': 0, 'like_count': 5, 'quote_count': 1, 'reply_count': 0, 'retweet_count': 2}, {'author_id': 2147483647, 'created_at': '2022-11-30T09:43:54.000Z', 'id': 2147483647, 'text': 0, 'impression_count': 0, 'like_count': 4, 'quote_count': 1, 'reply_count': 0, 'retweet_count': 2}, {'author_id': 2147483647, 'created_at': '2022-11-30T09:33:32.000Z', 'id': 2147483647, 'text': 0, 'impression_count': 0, 'like_count': 3, 'quote_count': 0, 'reply_count': 0, 'retweet_count': 1}, {'author_id': 2147483647, 'created_at': '2022-11-30T09:32:30.000Z', 'id': 2147483647, 'text': 0, 'impression_count': 0, 'like_count': 4, 'quote_count': 0, 'reply_count': 0, 'retweet_count': 3}, {'author_id': 2147483647, 'created_at': '2022-11-30T09:09:45.000Z', 'id': 2147483647, 'text': 0, 'impression_count': 0, 'like_count': 4, 'quote_count': 0, 'reply_count': 0, 'retweet_count': 2}, {'author_id': 2147483647, 'created_at': '2022-11-30T09:06:45.000Z', 'id': 2147483647, 'text': 0, 'impression_count': 0, 'like_count': 4, 'quote_count': 0, 'reply_count': 0, 'retweet_count': 2}, {'author_id': 2147483647, 'created_at': '2022-11-30T08:53:19.000Z', 'id': 2147483647, 'text': 0, 'impression_count': 0, 'like_count': 3, 'quote_count': 0, 'reply_count': 0, 'retweet_count': 1}, {'author_id': 2147483647, 'created_at': '2022-11-30T08:51:00.000Z', 'id': 2147483647, 'text': 0, 'impression_count': 0, 'like_count': 3, 'quote_count': 0, 'reply_count': 0, 'retweet_count': 2}, {'author_id': 2147483647, 'created_at': '2022-11-30T08:43:35.000Z', 'id': 2147483647, 'text': 0, 'impression_count': 0, 'like_count': 3, 'quote_count': 0, 'reply_count': 0, 'retweet_count': 1}, {'author_id': 2147483647, 'created_at': '2022-11-30T08:41:37.000Z', 'id': 2147483647, 'text': 0, 'impression_count': 0, 'like_count': 5, 'quote_count': 0, 'reply_count': 0, 'retweet_count': 1}, {'author_id': 2147483647, 'created_at': '2022-11-30T08:25:38.000Z', 'id': 2147483647, 'text': 0, 'impression_count': 0, 'like_count': 2, 'quote_count': 0, 'reply_count': 0, 'retweet_count': 0}, {'author_id': 2147483647, 'created_at': '2022-11-30T08:21:21.000Z', 'id': 2147483647, 'text': 0, 'impression_count': 0, 'like_count': 2, 'quote_count': 0, 'reply_count': 0, 'retweet_count': 2}, {'author_id': 2147483647, 'created_at': '2022-11-30T08:13:41.000Z', 'id': 2147483647, 'text': 0, 'impression_count': 0, 'like_count': 2, 'quote_count': 0, 'reply_count': 0, 'retweet_count': 1}, {'author_id': 2147483647, 'created_at': '2022-11-30T08:10:23.000Z', 'id': 2147483647, 'text': 0, 'impression_count': 0, 'like_count': 4, 'quote_count': 0, 'reply_count': 0, 'retweet_count': 2}, {'author_id': 378449449, 'created_at': '2022-11-29T16:21:33.000Z', 'id': 2147483647, 'text': 0, 'impression_count': 0, 'like_count': 3, 'quote_count': 0, 'reply_count': 0, 'retweet_count': 1}, {'author_id': 2147483647, 'created_at': '2022-11-29T16:18:50.000Z', 'id': 2147483647, 'text': 0, 'impression_count': 0, 'like_count': 1, 'quote_count': 0, 'reply_count': 0, 'retweet_count': 0}, {'author_id': 2147483647, 'created_at': '2022-11-29T10:49:52.000Z', 'id': 2147483647, 'text': 0, 'impression_count': 0, 'like_count': 3, 'quote_count': 0, 'reply_count': 0, 'retweet_count': 3}, {'author_id': 137698811, 'created_at': '2022-11-29T10:31:58.000Z', 'id': 2147483647, 'text': 0, 'impression_count': 0, 'like_count': 2, 'quote_count': 1, 'reply_count': 0, 'retweet_count': 1}, {'author_id': 2147483647, 'created_at': '2022-11-29T07:18:02.000Z', 'id': 2147483647, 'text': 0, 'impression_count': 0, 'like_count': 5, 'quote_count': 0, 'reply_count': 0, 'retweet_count': 5}, {'author_id': 2147483647, 'created_at': '2022-11-28T14:17:28.000Z', 'id': 2147483647, 'text': 0, 'impression_count': 0, 'like_count': 1, 'quote_count': 0, 'reply_count': 0, 'retweet_count': 1}, {'author_id': 2147483647, 'created_at': '2022-11-28T08:12:55.000Z', 'id': 2147483647, 'text': 0, 'impression_count': 0, 'like_count': 2, 'quote_count': 0, 'reply_count': 0, 'retweet_count': 1}, {'author_id': 2147483647, 'created_at': '2022-11-24T12:15:15.000Z', 'id': 2147483647, 'text': 0, 'impression_count': 0, 'like_count': 4, 'quote_count': 0, 'reply_count': 0, 'retweet_count': 3}, {'author_id': 2147483647, 'created_at': '2022-11-23T10:13:36.000Z', 'id': 2147483647, 'text': 0, 'impression_count': 0, 'like_count': 3, 'quote_count': 0, 'reply_count': 0, 'retweet_count': 4}, {'author_id': 2147483647, 'created_at': '2022-11-22T08:18:42.000Z', 'id': 2147483647, 'text': 0, 'impression_count': 0, 'like_count': 3, 'quote_count': 0, 'reply_count': 1, 'retweet_count': 1}, {'author_id': 2147483647, 'created_at': '2022-11-22T08:05:10.000Z', 'id': 2147483647, 'text': 0, 'impression_count': 0, 'like_count': 2, 'quote_count': 0, 'reply_count': 0, 'retweet_count': 1}, {'author_id': 2147483647, 'created_at': '2022-11-22T08:01:31.000Z', 'id': 2147483647, 'text': 0, 'impression_count': 0, 'like_count': 2, 'quote_count': 0, 'reply_count': 0, 'retweet_count': 2}, {'author_id': 2147483647, 'created_at': '2023-03-07T17:16:14.000Z', 'id': 2147483647, 'text': 0, 'impression_count': 357, 'like_count': 8, 'quote_count': 1, 'reply_count': 0, 'retweet_count': 3}, {'author_id': 2147483647, 'created_at': '2023-03-06T10:38:30.000Z', 'id': 2147483647, 'text': 0, 'impression_count': 31, 'like_count': 0, 'quote_count': 0, 'reply_count': 0, 'retweet_count': 0}, {'author_id': 2147483647, 'created_at': '2023-03-06T10:38:30.000Z', 'id': 2147483647, 'text': 0, 'impression_count': 950, 'like_count': 5, 'quote_count': 1, 'reply_count': 1, 'retweet_count': 3}, {'author_id': 41545659, 'created_at': '2023-03-06T08:48:56.000Z', 'id': 2147483647, 'text': 0, 'impression_count': 90, 'like_count': 3, 'quote_count': 0, 'reply_count': 0, 'retweet_count': 1}, {'author_id': 2147483647, 'created_at': '2023-03-04T22:32:56.000Z', 'id': 2147483647, 'text': 0, 'impression_count': 35, 'like_count': 1, 'quote_count': 0, 'reply_count': 0, 'retweet_count': 0}, {'author_id': 276656109, 'created_at': '2023-03-04T14:08:54.000Z', 'id': 2147483647, 'text': 0, 'impression_count': 28, 'like_count': 2, 'quote_count': 0, 'reply_count': 0, 'retweet_count': 0}, {'author_id': 1003872445, 'created_at': '2023-03-04T11:22:58.000Z', 'id': 2147483647, 'text': 0, 'impression_count': 1068, 'like_count': 9, 'quote_count': 1, 'reply_count': 1, 'retweet_count': 3}, {'author_id': 763727449, 'created_at': '2023-03-03T15:13:49.000Z', 'id': 2147483647, 'text': 0, 'impression_count': 10, 'like_count': 0, 'quote_count': 0, 'reply_count': 0, 'retweet_count': 0}, {'author_id': 2147483647, 'created_at': '2023-03-03T10:26:54.000Z', 'id': 2147483647, 'text': 0, 'impression_count': 45, 'like_count': 0, 'quote_count': 0, 'reply_count': 0, 'retweet_count': 0}, {'author_id': 2147483647, 'created_at': '2023-03-03T10:22:22.000Z', 'id': 2147483647, 'text': 0, 'impression_count': 442, 'like_count': 11, 'quote_count': 1, 'reply_count': 0, 'retweet_count': 4}, {'author_id': 2147483647, 'created_at': '2023-03-03T06:54:01.000Z', 'id': 2147483647, 'text': 0, 'impression_count': 73, 'like_count': 0, 'quote_count': 0, 'reply_count': 0, 'retweet_count': 0}, {'author_id': 2147483647, 'created_at': '2023-03-03T05:33:19.000Z', 'id': 2147483647, 'text': 0, 'impression_count': 182, 'like_count': 2, 'quote_count': 0, 'reply_count': 2, 'retweet_count': 0}, {'author_id': 2147483647, 'created_at': '2023-03-02T10:44:35.000Z', 'id': 2147483647, 'text': 0, 'impression_count': 2331, 'like_count': 21, 'quote_count': 1, 'reply_count': 2, 'retweet_count': 11}, {'author_id': 2147483647, 'created_at': '2023-03-01T07:24:05.000Z', 'id': 2147483647, 'text': 0, 'impression_count': 12, 'like_count': 0, 'quote_count': 0, 'reply_count': 0, 'retweet_count': 0}, {'author_id': 67324480, 'created_at': '2023-02-28T10:24:35.000Z', 'id': 2147483647, 'text': 0, 'impression_count': 7, 'like_count': 0, 'quote_count': 0, 'reply_count': 0, 'retweet_count': 0}, {'author_id': 1685197165, 'created_at': '2023-02-17T13:30:41.000Z', 'id': 2147483647, 'text': 0, 'impression_count': 58, 'like_count': 2, 'quote_count': 0, 'reply_count': 0, 'retweet_count': 0}, {'author_id': 1685197165, 'created_at': '2023-02-17T13:28:00.000Z', 'id': 2147483647, 'text': 0, 'impression_count': 53, 'like_count': 2, 'quote_count': 0, 'reply_count': 1, 'retweet_count': 0}, {'author_id': 1685197165, 'created_at': '2023-02-17T13:26:43.000Z', 'id': 2147483647, 'text': 0, 'impression_count': 52, 'like_count': 2, 'quote_count': 0, 'reply_count': 1, 'retweet_count': 0}, {'author_id': 1685197165, 'created_at': '2023-02-17T13:25:58.000Z', 'id': 2147483647, 'text': 0, 'impression_count': 72, 'like_count': 2, 'quote_count': 0, 'reply_count': 1, 'retweet_count': 0}, {'author_id': 1685197165, 'created_at': '2023-02-17T13:23:22.000Z', 'id': 2147483647, 'text': 0, 'impression_count': 51, 'like_count': 0, 'quote_count': 0, 'reply_count': 1, 'retweet_count': 0}, {'author_id': 2147483647, 'created_at': '2023-02-16T17:07:33.000Z', 'id': 2147483647, 'text': 0, 'impression_count': 605, 'like_count': 10, 'quote_count': 0, 'reply_count': 1, 'retweet_count': 5}, {'author_id': 1003872445, 'created_at': '2023-02-16T09:51:54.000Z', 'id': 2147483647, 'text': 0, 'impression_count': 243, 'like_count': 4, 'quote_count': 0, 'reply_count': 1, 'retweet_count': 0}, {'author_id': 2147483647, 'created_at': '2023-02-16T06:07:55.000Z', 'id': 2147483647, 'text': 0, 'impression_count': 28, 'like_count': 1, 'quote_count': 0, 'reply_count': 0, 'retweet_count': 0}, {'author_id': 2147483647, 'created_at': '2023-02-15T11:06:22.000Z', 'id': 2147483647, 'text': 0, 'impression_count': 762, 'like_count': 10, 'quote_count': 0, 'reply_count': 1, 'retweet_count': 2}, {'author_id': 2147483647, 'created_at': '2023-02-13T13:36:10.000Z', 'id': 2147483647, 'text': 0, 'impression_count': 204, 'like_count': 2, 'quote_count': 1, 'reply_count': 0, 'retweet_count': 0}, {'author_id': 106344840, 'created_at': '2023-02-07T09:51:05.000Z', 'id': 2147483647, 'text': 0, 'impression_count': 421, 'like_count': 6, 'quote_count': 0, 'reply_count': 0, 'retweet_count': 2}, {'author_id': 2147483647, 'created_at': '2023-02-06T19:39:50.000Z', 'id': 2147483647, 'text': 0, 'impression_count': 52, 'like_count': 3, 'quote_count': 0, 'reply_count': 0, 'retweet_count': 0}, {'author_id': 2147483647, 'created_at': '2023-02-03T06:32:08.000Z', 'id': 2147483647, 'text': 0, 'impression_count': 275, 'like_count': 2, 'quote_count': 0, 'reply_count': 1, 'retweet_count': 1}, {'author_id': 2147483647, 'created_at': '2023-02-02T17:38:37.000Z', 'id': 2147483647, 'text': 0, 'impression_count': 80, 'like_count': 1, 'quote_count': 0, 'reply_count': 0, 'retweet_count': 0}, {'author_id': 2147483647, 'created_at': '2023-02-02T17:37:03.000Z', 'id': 2147483647, 'text': 0, 'impression_count': 30, 'like_count': 0, 'quote_count': 0, 'reply_count': 0, 'retweet_count': 0}, {'author_id': 10279282, 'created_at': '2023-02-02T17:32:09.000Z', 'id': 2147483647, 'text': 0, 'impression_count': 50, 'like_count': 0, 'quote_count': 0, 'reply_count': 1, 'retweet_count': 0}, {'author_id': 112458375, 'created_at': '2023-02-02T09:46:33.000Z', 'id': 2147483647, 'text': 0, 'impression_count': 118, 'like_count': 4, 'quote_count': 0, 'reply_count': 0, 'retweet_count': 2}, {'author_id': 207894341, 'created_at': '2023-02-02T09:41:59.000Z', 'id': 2147483647, 'text': 0, 'impression_count': 416, 'like_count': 3, 'quote_count': 0, 'reply_count': 0, 'retweet_count': 3}, {'author_id': 2147483647, 'created_at': '2023-02-02T08:44:00.000Z', 'id': 2147483647, 'text': 0, 'impression_count': 226, 'like_count': 6, 'quote_count': 0, 'reply_count': 0, 'retweet_count': 4}, {'author_id': 2147483647, 'created_at': '2023-02-01T10:56:22.000Z', 'id': 2147483647, 'text': 0, 'impression_count': 33, 'like_count': 2, 'quote_count': 0, 'reply_count': 0, 'retweet_count': 0}, {'author_id': 2147483647, 'created_at': '2023-01-31T17:39:02.000Z', 'id': 2147483647, 'text': 0, 'impression_count': 35, 'like_count': 2, 'quote_count': 0, 'reply_count': 0, 'retweet_count': 0}, {'author_id': 2147483647, 'created_at': '2023-01-31T17:35:11.000Z', 'id': 2147483647, 'text': 0, 'impression_count': 45, 'like_count': 3, 'quote_count': 0, 'reply_count': 2, 'retweet_count': 0}, {'author_id': 55539458, 'created_at': '2023-01-30T09:45:55.000Z', 'id': 2147483647, 'text': 0, 'impression_count': 4, 'like_count': 0, 'quote_count': 0, 'reply_count': 0, 'retweet_count': 0}, {'author_id': 550417439, 'created_at': '2023-01-28T07:30:07.000Z', 'id': 2147483647, 'text': 0, 'impression_count': 969, 'like_count': 5, 'quote_count': 0, 'reply_count': 0, 'retweet_count': 1}, {'author_id': 1101664008, 'created_at': '2023-01-27T16:06:53.000Z', 'id': 2147483647, 'text': 0, 'impression_count': 124, 'like_count': 1, 'quote_count': 0, 'reply_count': 1, 'retweet_count': 1}, {'author_id': 550417439, 'created_at': '2023-01-27T16:00:08.000Z', 'id': 2147483647, 'text': 0, 'impression_count': 511, 'like_count': 2, 'quote_count': 0, 'reply_count': 0, 'retweet_count': 0}, {'author_id': 2147483647, 'created_at': '2023-01-27T14:08:51.000Z', 'id': 2147483647, 'text': 0, 'impression_count': 99, 'like_count': 3, 'quote_count': 0, 'reply_count': 0, 'retweet_count': 0}, {'author_id': 550417439, 'created_at': '2023-01-27T11:15:00.000Z', 'id': 2147483647, 'text': 0, 'impression_count': 328, 'like_count': 1, 'quote_count': 0, 'reply_count': 0, 'retweet_count': 0}, {'author_id': 2147483647, 'created_at': '2023-01-26T19:45:31.000Z', 'id': 2147483647, 'text': 0, 'impression_count': 4, 'like_count': 0, 'quote_count': 0, 'reply_count': 0, 'retweet_count': 0}, {'author_id': 2147483647, 'created_at': '2023-01-26T15:37:10.000Z', 'id': 2147483647, 'text': 0, 'impression_count': 118, 'like_count': 4, 'quote_count': 0, 'reply_count': 0, 'retweet_count': 2}, {'author_id': 2147483647, 'created_at': '2023-01-26T15:23:40.000Z', 'id': 2147483647, 'text': 0, 'impression_count': 9, 'like_count': 0, 'quote_count': 0, 'reply_count': 0, 'retweet_count': 0}, {'author_id': 106344840, 'created_at': '2023-01-26T12:58:57.000Z', 'id': 2147483647, 'text': 0, 'impression_count': 197, 'like_count': 3, 'quote_count': 0, 'reply_count': 0, 'retweet_count': 0}, {'author_id': 41545659, 'created_at': '2023-01-24T20:44:09.000Z', 'id': 2147483647, 'text': 0, 'impression_count': 163, 'like_count': 3, 'quote_count': 0, 'reply_count': 0, 'retweet_count': 0}, {'author_id': 2147483647, 'created_at': '2023-01-24T14:12:35.000Z', 'id': 2147483647, 'text': 0, 'impression_count': 12, 'like_count': 0, 'quote_count': 0, 'reply_count': 0, 'retweet_count': 0}, {'author_id': 2147483647, 'created_at': '2023-01-24T08:03:43.000Z', 'id': 2147483647, 'text': 0, 'impression_count': 182, 'like_count': 1, 'quote_count': 2, 'reply_count': 0, 'retweet_count': 1}, {'author_id': 2147483647, 'created_at': '2023-01-23T10:18:56.000Z', 'id': 2147483647, 'text': 0, 'impression_count': 45, 'like_count': 1, 'quote_count': 0, 'reply_count': 1, 'retweet_count': 0}, {'author_id': 550417439, 'created_at': '2023-01-23T09:34:56.000Z', 'id': 2147483647, 'text': 0, 'impression_count': 409, 'like_count': 3, 'quote_count': 0, 'reply_count': 0, 'retweet_count': 1}, {'author_id': 2147483647, 'created_at': '2023-01-20T17:31:22.000Z', 'id': 2147483647, 'text': 0, 'impression_count': 489, 'like_count': 9, 'quote_count': 0, 'reply_count': 0, 'retweet_count': 4}, {'author_id': 2147483647, 'created_at': '2023-01-20T09:17:27.000Z', 'id': 2147483647, 'text': 0, 'impression_count': 123, 'like_count': 1, 'quote_count': 0, 'reply_count': 0, 'retweet_count': 1}, {'author_id': 91876265, 'created_at': '2023-01-19T13:45:11.000Z', 'id': 2147483647, 'text': 0, 'impression_count': 251, 'like_count': 5, 'quote_count': 0, 'reply_count': 0, 'retweet_count': 2}, {'author_id': 1003872445, 'created_at': '2023-01-19T09:54:51.000Z', 'id': 2147483647, 'text': 0, 'impression_count': 861, 'like_count': 4, 'quote_count': 0, 'reply_count': 0, 'retweet_count': 3}, {'author_id': 1003872445, 'created_at': '2023-01-19T09:51:54.000Z', 'id': 2147483647, 'text': 0, 'impression_count': 34, 'like_count': 2, 'quote_count': 0, 'reply_count': 0, 'retweet_count': 0}, {'author_id': 7154412, 'created_at': '2023-01-18T21:45:55.000Z', 'id': 2147483647, 'text': 0, 'impression_count': 159, 'like_count': 4, 'quote_count': 0, 'reply_count': 0, 'retweet_count': 1}, {'author_id': 866742930, 'created_at': '2023-01-18T21:31:09.000Z', 'id': 2147483647, 'text': 0, 'impression_count': 128, 'like_count': 3, 'quote_count': 0, 'reply_count': 2, 'retweet_count': 0}, {'author_id': 7154412, 'created_at': '2023-01-18T20:34:31.000Z', 'id': 2147483647, 'text': 0, 'impression_count': 181, 'like_count': 2, 'quote_count': 0, 'reply_count': 1, 'retweet_count': 0}, {'author_id': 17287251, 'created_at': '2023-01-18T20:25:09.000Z', 'id': 2147483647, 'text': 0, 'impression_count': 282, 'like_count': 3, 'quote_count': 0, 'reply_count': 2, 'retweet_count': 0}, {'author_id': 17287251, 'created_at': '2023-01-18T20:14:43.000Z', 'id': 2147483647, 'text': 0, 'impression_count': 75, 'like_count': 1, 'quote_count': 0, 'reply_count': 0, 'retweet_count': 0}, {'author_id': 7154412, 'created_at': '2023-01-18T20:07:26.000Z', 'id': 2147483647, 'text': 0, 'impression_count': 224, 'like_count': 1, 'quote_count': 0, 'reply_count': 2, 'retweet_count': 0}, {'author_id': 141272779, 'created_at': '2023-01-18T19:23:29.000Z', 'id': 2147483647, 'text': 0, 'impression_count': 150, 'like_count': 2, 'quote_count': 0, 'reply_count': 1, 'retweet_count': 0}, {'author_id': 17287251, 'created_at': '2023-01-18T19:16:40.000Z', 'id': 2147483647, 'text': 0, 'impression_count': 136, 'like_count': 2, 'quote_count': 0, 'reply_count': 1, 'retweet_count': 0}, {'author_id': 417307513, 'created_at': '2023-01-18T19:01:43.000Z', 'id': 2147483647, 'text': 0, 'impression_count': 102, 'like_count': 2, 'quote_count': 0, 'reply_count': 0, 'retweet_count': 0}, {'author_id': 141272779, 'created_at': '2023-01-18T18:59:29.000Z', 'id': 2147483647, 'text': 0, 'impression_count': 138, 'like_count': 1, 'quote_count': 0, 'reply_count': 1, 'retweet_count': 0}, {'author_id': 17287251, 'created_at': '2023-01-18T18:48:45.000Z', 'id': 2147483647, 'text': 0, 'impression_count': 612, 'like_count': 1, 'quote_count': 0, 'reply_count': 2, 'retweet_count': 0}, {'author_id': 212364786, 'created_at': '2023-01-18T18:23:30.000Z', 'id': 2147483647, 'text': 0, 'impression_count': 273, 'like_count': 2, 'quote_count': 0, 'reply_count': 0, 'retweet_count': 0}, {'author_id': 2147483647, 'created_at': '2023-01-18T18:15:04.000Z', 'id': 2147483647, 'text': 0, 'impression_count': 179, 'like_count': 2, 'quote_count': 0, 'reply_count': 0, 'retweet_count': 0}, {'author_id': 7154412, 'created_at': '2023-01-18T18:06:30.000Z', 'id': 2147483647, 'text': 0, 'impression_count': 6600, 'like_count': 35, 'quote_count': 1, 'reply_count': 2, 'retweet_count': 5}, {'author_id': 1232105203, 'created_at': '2023-01-18T17:11:05.000Z', 'id': 2147483647, 'text': 0, 'impression_count': 22, 'like_count': 0, 'quote_count': 0, 'reply_count': 0, 'retweet_count': 0}, {'author_id': 2147483647, 'created_at': '2023-01-17T12:34:14.000Z', 'id': 2147483647, 'text': 0, 'impression_count': 124, 'like_count': 2, 'quote_count': 0, 'reply_count': 0, 'retweet_count': 1}, {'author_id': 163586106, 'created_at': '2023-01-17T09:27:40.000Z', 'id': 2147483647, 'text': 0, 'impression_count': 486, 'like_count': 2, 'quote_count': 1, 'reply_count': 0, 'retweet_count': 0}, {'author_id': 41545659, 'created_at': '2023-01-15T13:16:24.000Z', 'id': 2147483647, 'text': 0, 'impression_count': 394, 'like_count': 9, 'quote_count': 0, 'reply_count': 0, 'retweet_count': 3}, {'author_id': 41545659, 'created_at': '2023-01-15T13:16:24.000Z', 'id': 2147483647, 'text': 0, 'impression_count': 1766, 'like_count': 10, 'quote_count': 0, 'reply_count': 1, 'retweet_count': 5}, {'author_id': 41545659, 'created_at': '2023-01-15T13:16:23.000Z', 'id': 2147483647, 'text': 0, 'impression_count': 225761, 'like_count': 321, 'quote_count': 4, 'reply_count': 7, 'retweet_count': 49}, {'author_id': 2147483647, 'created_at': '2023-01-13T08:55:42.000Z', 'id': 2147483647, 'text': 0, 'impression_count': 120, 'like_count': 3, 'quote_count': 0, 'reply_count': 0, 'retweet_count': 2}, {'author_id': 2147483647, 'created_at': '2023-01-12T12:54:44.000Z', 'id': 2147483647, 'text': 0, 'impression_count': 153, 'like_count': 1, 'quote_count': 0, 'reply_count': 0, 'retweet_count': 2}, {'author_id': 2147483647, 'created_at': '2023-01-12T10:20:00.000Z', 'id': 2147483647, 'text': 0, 'impression_count': 342, 'like_count': 4, 'quote_count': 0, 'reply_count': 0, 'retweet_count': 1}, {'author_id': 2147483647, 'created_at': '2023-01-12T08:31:28.000Z', 'id': 2147483647, 'text': 0, 'impression_count': 151, 'like_count': 2, 'quote_count': 0, 'reply_count': 0, 'retweet_count': 2}, {'author_id': 2147483647, 'created_at': '2023-01-10T10:48:57.000Z', 'id': 2147483647, 'text': 0, 'impression_count': 283, 'like_count': 2, 'quote_count': 1, 'reply_count': 0, 'retweet_count': 0}, {'author_id': 1003872445, 'created_at': '2023-01-09T12:40:07.000Z', 'id': 2147483647, 'text': 0, 'impression_count': 297, 'like_count': 7, 'quote_count': 0, 'reply_count': 0, 'retweet_count': 2}, {'author_id': 570795448, 'created_at': '2023-01-09T09:41:46.000Z', 'id': 2147483647, 'text': 0, 'impression_count': 967, 'like_count': 4, 'quote_count': 2, 'reply_count': 0, 'retweet_count': 2}, {'author_id': 271028835, 'created_at': '2023-01-07T19:55:52.000Z', 'id': 2147483647, 'text': 0, 'impression_count': 166, 'like_count': 7, 'quote_count': 0, 'reply_count': 0, 'retweet_count': 2}, {'author_id': 2147483647, 'created_at': '2023-01-06T12:28:27.000Z', 'id': 2147483647, 'text': 0, 'impression_count': 51, 'like_count': 2, 'quote_count': 0, 'reply_count': 0, 'retweet_count': 0}, {'author_id': 10279282, 'created_at': '2023-01-04T15:02:11.000Z', 'id': 2147483647, 'text': 0, 'impression_count': 82, 'like_count': 3, 'quote_count': 0, 'reply_count': 0, 'retweet_count': 2}, {'author_id': 2147483647, 'created_at': '2023-01-04T11:57:41.000Z', 'id': 2147483647, 'text': 0, 'impression_count': 116, 'like_count': 3, 'quote_count': 0, 'reply_count': 0, 'retweet_count': 2}, {'author_id': 2147483647, 'created_at': '2023-01-02T15:15:00.000Z', 'id': 2147483647, 'text': 0, 'impression_count': 593, 'like_count': 5, 'quote_count': 0, 'reply_count': 0, 'retweet_count': 1}]\n",
      "Proceso finalizado\n"
     ]
    }
   ],
   "source": [
    "sql = '''SELECT * FROM tweets'''\n",
    "cursor.execute(sql)\n",
    "print(cursor.fetchall())\n",
    "print('Proceso finalizado')"
   ]
  },
  {
   "cell_type": "markdown",
   "metadata": {},
   "source": [
    "### Insertar datos de un CSV"
   ]
  },
  {
   "cell_type": "code",
   "execution_count": 67,
   "metadata": {},
   "outputs": [
    {
     "data": {
      "text/html": [
       "<div>\n",
       "<style scoped>\n",
       "    .dataframe tbody tr th:only-of-type {\n",
       "        vertical-align: middle;\n",
       "    }\n",
       "\n",
       "    .dataframe tbody tr th {\n",
       "        vertical-align: top;\n",
       "    }\n",
       "\n",
       "    .dataframe thead th {\n",
       "        text-align: right;\n",
       "    }\n",
       "</style>\n",
       "<table border=\"1\" class=\"dataframe\">\n",
       "  <thead>\n",
       "    <tr style=\"text-align: right;\">\n",
       "      <th></th>\n",
       "      <th>author_id</th>\n",
       "    </tr>\n",
       "  </thead>\n",
       "  <tbody>\n",
       "    <tr>\n",
       "      <th>0</th>\n",
       "      <td>1151510939105144834</td>\n",
       "    </tr>\n",
       "    <tr>\n",
       "      <th>1</th>\n",
       "      <td>570795448</td>\n",
       "    </tr>\n",
       "    <tr>\n",
       "      <th>2</th>\n",
       "      <td>1128860148</td>\n",
       "    </tr>\n",
       "    <tr>\n",
       "      <th>3</th>\n",
       "      <td>570795448</td>\n",
       "    </tr>\n",
       "    <tr>\n",
       "      <th>4</th>\n",
       "      <td>1162694149956603904</td>\n",
       "    </tr>\n",
       "    <tr>\n",
       "      <th>...</th>\n",
       "      <td>...</td>\n",
       "    </tr>\n",
       "    <tr>\n",
       "      <th>144</th>\n",
       "      <td>271028835</td>\n",
       "    </tr>\n",
       "    <tr>\n",
       "      <th>145</th>\n",
       "      <td>1530194743786881024</td>\n",
       "    </tr>\n",
       "    <tr>\n",
       "      <th>146</th>\n",
       "      <td>10279282</td>\n",
       "    </tr>\n",
       "    <tr>\n",
       "      <th>147</th>\n",
       "      <td>2402179123</td>\n",
       "    </tr>\n",
       "    <tr>\n",
       "      <th>148</th>\n",
       "      <td>874916978665938945</td>\n",
       "    </tr>\n",
       "  </tbody>\n",
       "</table>\n",
       "<p>149 rows × 1 columns</p>\n",
       "</div>"
      ],
      "text/plain": [
       "               author_id\n",
       "0    1151510939105144834\n",
       "1              570795448\n",
       "2             1128860148\n",
       "3              570795448\n",
       "4    1162694149956603904\n",
       "..                   ...\n",
       "144            271028835\n",
       "145  1530194743786881024\n",
       "146             10279282\n",
       "147           2402179123\n",
       "148   874916978665938945\n",
       "\n",
       "[149 rows x 1 columns]"
      ]
     },
     "execution_count": 67,
     "metadata": {},
     "output_type": "execute_result"
    }
   ],
   "source": [
    "df_users = pd.DataFrame(df['author_id'])\n",
    "df_users"
   ]
  },
  {
   "cell_type": "code",
   "execution_count": 34,
   "metadata": {},
   "outputs": [
    {
     "data": {
      "text/html": [
       "<div>\n",
       "<style scoped>\n",
       "    .dataframe tbody tr th:only-of-type {\n",
       "        vertical-align: middle;\n",
       "    }\n",
       "\n",
       "    .dataframe tbody tr th {\n",
       "        vertical-align: top;\n",
       "    }\n",
       "\n",
       "    .dataframe thead th {\n",
       "        text-align: right;\n",
       "    }\n",
       "</style>\n",
       "<table border=\"1\" class=\"dataframe\">\n",
       "  <thead>\n",
       "    <tr style=\"text-align: right;\">\n",
       "      <th></th>\n",
       "      <th>author_id</th>\n",
       "      <th>created_at</th>\n",
       "      <th>id</th>\n",
       "      <th>text</th>\n",
       "      <th>impression_count</th>\n",
       "      <th>like_count</th>\n",
       "      <th>quote_count</th>\n",
       "      <th>reply_count</th>\n",
       "      <th>retweet_count</th>\n",
       "    </tr>\n",
       "  </thead>\n",
       "  <tbody>\n",
       "    <tr>\n",
       "      <th>0</th>\n",
       "      <td>1151510939105144834</td>\n",
       "      <td>2022-12-29T16:39:19.000Z</td>\n",
       "      <td>1608502937332113408</td>\n",
       "      <td>Empieza el año formándote en una de las profes...</td>\n",
       "      <td>113</td>\n",
       "      <td>4</td>\n",
       "      <td>0</td>\n",
       "      <td>0</td>\n",
       "      <td>1</td>\n",
       "    </tr>\n",
       "    <tr>\n",
       "      <th>1</th>\n",
       "      <td>570795448</td>\n",
       "      <td>2022-12-29T12:52:11.000Z</td>\n",
       "      <td>1608445776732246017</td>\n",
       "      <td>Los 4 bootcamps tecnológicos de EDEM y @TheBri...</td>\n",
       "      <td>124</td>\n",
       "      <td>2</td>\n",
       "      <td>0</td>\n",
       "      <td>0</td>\n",
       "      <td>0</td>\n",
       "    </tr>\n",
       "    <tr>\n",
       "      <th>2</th>\n",
       "      <td>1128860148</td>\n",
       "      <td>2022-12-29T09:16:11.000Z</td>\n",
       "      <td>1608391421014196224</td>\n",
       "      <td>@EDEMempresarios acoge el 12 de enero un Open ...</td>\n",
       "      <td>49</td>\n",
       "      <td>2</td>\n",
       "      <td>0</td>\n",
       "      <td>0</td>\n",
       "      <td>0</td>\n",
       "    </tr>\n",
       "    <tr>\n",
       "      <th>3</th>\n",
       "      <td>570795448</td>\n",
       "      <td>2022-12-27T09:00:57.000Z</td>\n",
       "      <td>1607662809575292929</td>\n",
       "      <td>Si estás buscando una profesión que te cambie ...</td>\n",
       "      <td>218</td>\n",
       "      <td>5</td>\n",
       "      <td>0</td>\n",
       "      <td>0</td>\n",
       "      <td>0</td>\n",
       "    </tr>\n",
       "    <tr>\n",
       "      <th>4</th>\n",
       "      <td>1162694149956603904</td>\n",
       "      <td>2022-12-23T12:54:06.000Z</td>\n",
       "      <td>1606271930763354112</td>\n",
       "      <td>En @TheBridge_Tech tenemos un deseo para ti💫\\n...</td>\n",
       "      <td>120</td>\n",
       "      <td>1</td>\n",
       "      <td>0</td>\n",
       "      <td>0</td>\n",
       "      <td>1</td>\n",
       "    </tr>\n",
       "    <tr>\n",
       "      <th>...</th>\n",
       "      <td>...</td>\n",
       "      <td>...</td>\n",
       "      <td>...</td>\n",
       "      <td>...</td>\n",
       "      <td>...</td>\n",
       "      <td>...</td>\n",
       "      <td>...</td>\n",
       "      <td>...</td>\n",
       "      <td>...</td>\n",
       "    </tr>\n",
       "    <tr>\n",
       "      <th>144</th>\n",
       "      <td>271028835</td>\n",
       "      <td>2023-01-07T19:55:52.000Z</td>\n",
       "      <td>1611813891322908672</td>\n",
       "      <td>🚀 @EDEMempresarios  y @TheBridge_Tech  se alía...</td>\n",
       "      <td>166</td>\n",
       "      <td>7</td>\n",
       "      <td>0</td>\n",
       "      <td>0</td>\n",
       "      <td>2</td>\n",
       "    </tr>\n",
       "    <tr>\n",
       "      <th>145</th>\n",
       "      <td>1530194743786881024</td>\n",
       "      <td>2023-01-06T12:28:27.000Z</td>\n",
       "      <td>1611338908196913153</td>\n",
       "      <td>Gracias a nuestros amigos @TheBridge_Tech por ...</td>\n",
       "      <td>51</td>\n",
       "      <td>2</td>\n",
       "      <td>0</td>\n",
       "      <td>0</td>\n",
       "      <td>0</td>\n",
       "    </tr>\n",
       "    <tr>\n",
       "      <th>146</th>\n",
       "      <td>10279282</td>\n",
       "      <td>2023-01-04T15:02:11.000Z</td>\n",
       "      <td>1610652818234347521</td>\n",
       "      <td>¿Te interesa el diseño de #producto digital? V...</td>\n",
       "      <td>82</td>\n",
       "      <td>3</td>\n",
       "      <td>0</td>\n",
       "      <td>0</td>\n",
       "      <td>2</td>\n",
       "    </tr>\n",
       "    <tr>\n",
       "      <th>147</th>\n",
       "      <td>2402179123</td>\n",
       "      <td>2023-01-04T11:57:41.000Z</td>\n",
       "      <td>1610606391445815297</td>\n",
       "      <td>¡Empezamos el año con una #masterclass de #uxu...</td>\n",
       "      <td>116</td>\n",
       "      <td>3</td>\n",
       "      <td>0</td>\n",
       "      <td>0</td>\n",
       "      <td>2</td>\n",
       "    </tr>\n",
       "    <tr>\n",
       "      <th>148</th>\n",
       "      <td>874916978665938945</td>\n",
       "      <td>2023-01-02T15:15:00.000Z</td>\n",
       "      <td>1609931268921114627</td>\n",
       "      <td>🤝 @EDEMempresarios se alía con @TheBridge_Tech...</td>\n",
       "      <td>593</td>\n",
       "      <td>5</td>\n",
       "      <td>0</td>\n",
       "      <td>0</td>\n",
       "      <td>1</td>\n",
       "    </tr>\n",
       "  </tbody>\n",
       "</table>\n",
       "<p>149 rows × 9 columns</p>\n",
       "</div>"
      ],
      "text/plain": [
       "               author_id                created_at                   id  \\\n",
       "0    1151510939105144834  2022-12-29T16:39:19.000Z  1608502937332113408   \n",
       "1              570795448  2022-12-29T12:52:11.000Z  1608445776732246017   \n",
       "2             1128860148  2022-12-29T09:16:11.000Z  1608391421014196224   \n",
       "3              570795448  2022-12-27T09:00:57.000Z  1607662809575292929   \n",
       "4    1162694149956603904  2022-12-23T12:54:06.000Z  1606271930763354112   \n",
       "..                   ...                       ...                  ...   \n",
       "144            271028835  2023-01-07T19:55:52.000Z  1611813891322908672   \n",
       "145  1530194743786881024  2023-01-06T12:28:27.000Z  1611338908196913153   \n",
       "146             10279282  2023-01-04T15:02:11.000Z  1610652818234347521   \n",
       "147           2402179123  2023-01-04T11:57:41.000Z  1610606391445815297   \n",
       "148   874916978665938945  2023-01-02T15:15:00.000Z  1609931268921114627   \n",
       "\n",
       "                                                  text  impression_count  \\\n",
       "0    Empieza el año formándote en una de las profes...               113   \n",
       "1    Los 4 bootcamps tecnológicos de EDEM y @TheBri...               124   \n",
       "2    @EDEMempresarios acoge el 12 de enero un Open ...                49   \n",
       "3    Si estás buscando una profesión que te cambie ...               218   \n",
       "4    En @TheBridge_Tech tenemos un deseo para ti💫\\n...               120   \n",
       "..                                                 ...               ...   \n",
       "144  🚀 @EDEMempresarios  y @TheBridge_Tech  se alía...               166   \n",
       "145  Gracias a nuestros amigos @TheBridge_Tech por ...                51   \n",
       "146  ¿Te interesa el diseño de #producto digital? V...                82   \n",
       "147  ¡Empezamos el año con una #masterclass de #uxu...               116   \n",
       "148  🤝 @EDEMempresarios se alía con @TheBridge_Tech...               593   \n",
       "\n",
       "     like_count  quote_count  reply_count  retweet_count  \n",
       "0             4            0            0              1  \n",
       "1             2            0            0              0  \n",
       "2             2            0            0              0  \n",
       "3             5            0            0              0  \n",
       "4             1            0            0              1  \n",
       "..          ...          ...          ...            ...  \n",
       "144           7            0            0              2  \n",
       "145           2            0            0              0  \n",
       "146           3            0            0              2  \n",
       "147           3            0            0              2  \n",
       "148           5            0            0              1  \n",
       "\n",
       "[149 rows x 9 columns]"
      ]
     },
     "execution_count": 34,
     "metadata": {},
     "output_type": "execute_result"
    }
   ],
   "source": [
    "df = pd.read_csv('../data/tweets_23&23_@TheBridge.csv', index_col=0)\n",
    "df"
   ]
  },
  {
   "cell_type": "code",
   "execution_count": 68,
   "metadata": {},
   "outputs": [],
   "source": [
    "from sqlalchemy import create_engine\n",
    "\n",
    "# create sqlalchemy engine\n",
    "\n",
    "engine = create_engine(\"mysql+pymysql://{user}:{pw}@{host}/{db}\".format(user = username, pw = password, host = host, db = 'tweets_TheBridge'))\n",
    "# engine = create_engine(\"mysql+pymysql://my_user:my_password@my_host/my_database\")"
   ]
  },
  {
   "cell_type": "code",
   "execution_count": 70,
   "metadata": {},
   "outputs": [],
   "source": [
    "# insertamos todo el dataframe en users\n",
    "df_users.to_sql(name='users', con=engine, if_exists= 'append', index=False)\n"
   ]
  },
  {
   "cell_type": "code",
   "execution_count": 42,
   "metadata": {},
   "outputs": [
    {
     "data": {
      "text/plain": [
       "149"
      ]
     },
     "execution_count": 42,
     "metadata": {},
     "output_type": "execute_result"
    }
   ],
   "source": [
    "len(df['id'].unique())"
   ]
  },
  {
   "cell_type": "code",
   "execution_count": 72,
   "metadata": {},
   "outputs": [],
   "source": [
    "# df into tweets tables\n",
    "df.to_sql(name='tweets', con=engine, if_exists= 'append', index=False)"
   ]
  },
  {
   "cell_type": "code",
   "execution_count": null,
   "metadata": {},
   "outputs": [],
   "source": []
  },
  {
   "cell_type": "code",
   "execution_count": 26,
   "metadata": {},
   "outputs": [],
   "source": [
    "db.commit()"
   ]
  },
  {
   "cell_type": "code",
   "execution_count": 78,
   "metadata": {},
   "outputs": [
    {
     "data": {
      "text/plain": [
       "[{'author_id': 2147483647},\n",
       " {'author_id': 570795448},\n",
       " {'author_id': 1128860148},\n",
       " {'author_id': 570795448},\n",
       " {'author_id': 2147483647},\n",
       " {'author_id': 2147483647},\n",
       " {'author_id': 2147483647},\n",
       " {'author_id': 2147483647},\n",
       " {'author_id': 1175646685},\n",
       " {'author_id': 402013017},\n",
       " {'author_id': 1128860148},\n",
       " {'author_id': 570795448},\n",
       " {'author_id': 2147483647},\n",
       " {'author_id': 2147483647},\n",
       " {'author_id': 2147483647},\n",
       " {'author_id': 108885393},\n",
       " {'author_id': 2147483647},\n",
       " {'author_id': 49219057},\n",
       " {'author_id': 2147483647},\n",
       " {'author_id': 146406912},\n",
       " {'author_id': 2147483647},\n",
       " {'author_id': 2147483647},\n",
       " {'author_id': 108885393},\n",
       " {'author_id': 2147483647},\n",
       " {'author_id': 2147483647},\n",
       " {'author_id': 2147483647},\n",
       " {'author_id': 2147483647},\n",
       " {'author_id': 2147483647},\n",
       " {'author_id': 2147483647},\n",
       " {'author_id': 146406912},\n",
       " {'author_id': 146406912},\n",
       " {'author_id': 146406912},\n",
       " {'author_id': 1951117790},\n",
       " {'author_id': 2147483647},\n",
       " {'author_id': 2147483647},\n",
       " {'author_id': 2147483647},\n",
       " {'author_id': 2147483647},\n",
       " {'author_id': 2147483647},\n",
       " {'author_id': 2147483647},\n",
       " {'author_id': 2147483647},\n",
       " {'author_id': 2147483647},\n",
       " {'author_id': 2147483647},\n",
       " {'author_id': 2147483647},\n",
       " {'author_id': 2147483647},\n",
       " {'author_id': 2147483647},\n",
       " {'author_id': 2147483647},\n",
       " {'author_id': 2147483647},\n",
       " {'author_id': 2147483647},\n",
       " {'author_id': 378449449},\n",
       " {'author_id': 2147483647},\n",
       " {'author_id': 2147483647},\n",
       " {'author_id': 137698811},\n",
       " {'author_id': 2147483647},\n",
       " {'author_id': 2147483647},\n",
       " {'author_id': 2147483647},\n",
       " {'author_id': 2147483647},\n",
       " {'author_id': 2147483647},\n",
       " {'author_id': 2147483647},\n",
       " {'author_id': 2147483647},\n",
       " {'author_id': 2147483647},\n",
       " {'author_id': 2147483647},\n",
       " {'author_id': 2147483647},\n",
       " {'author_id': 2147483647},\n",
       " {'author_id': 41545659},\n",
       " {'author_id': 2147483647},\n",
       " {'author_id': 276656109},\n",
       " {'author_id': 1003872445},\n",
       " {'author_id': 763727449},\n",
       " {'author_id': 2147483647},\n",
       " {'author_id': 2147483647},\n",
       " {'author_id': 2147483647},\n",
       " {'author_id': 2147483647},\n",
       " {'author_id': 2147483647},\n",
       " {'author_id': 2147483647},\n",
       " {'author_id': 67324480},\n",
       " {'author_id': 1685197165},\n",
       " {'author_id': 1685197165},\n",
       " {'author_id': 1685197165},\n",
       " {'author_id': 1685197165},\n",
       " {'author_id': 1685197165},\n",
       " {'author_id': 2147483647},\n",
       " {'author_id': 1003872445},\n",
       " {'author_id': 2147483647},\n",
       " {'author_id': 2147483647},\n",
       " {'author_id': 2147483647},\n",
       " {'author_id': 106344840},\n",
       " {'author_id': 2147483647},\n",
       " {'author_id': 2147483647},\n",
       " {'author_id': 2147483647},\n",
       " {'author_id': 2147483647},\n",
       " {'author_id': 10279282},\n",
       " {'author_id': 112458375},\n",
       " {'author_id': 207894341},\n",
       " {'author_id': 2147483647},\n",
       " {'author_id': 2147483647},\n",
       " {'author_id': 2147483647},\n",
       " {'author_id': 2147483647},\n",
       " {'author_id': 55539458},\n",
       " {'author_id': 550417439},\n",
       " {'author_id': 1101664008},\n",
       " {'author_id': 550417439},\n",
       " {'author_id': 2147483647},\n",
       " {'author_id': 550417439},\n",
       " {'author_id': 2147483647},\n",
       " {'author_id': 2147483647},\n",
       " {'author_id': 2147483647},\n",
       " {'author_id': 106344840},\n",
       " {'author_id': 41545659},\n",
       " {'author_id': 2147483647},\n",
       " {'author_id': 2147483647},\n",
       " {'author_id': 2147483647},\n",
       " {'author_id': 550417439},\n",
       " {'author_id': 2147483647},\n",
       " {'author_id': 2147483647},\n",
       " {'author_id': 91876265},\n",
       " {'author_id': 1003872445},\n",
       " {'author_id': 1003872445},\n",
       " {'author_id': 7154412},\n",
       " {'author_id': 866742930},\n",
       " {'author_id': 7154412},\n",
       " {'author_id': 17287251},\n",
       " {'author_id': 17287251},\n",
       " {'author_id': 7154412},\n",
       " {'author_id': 141272779},\n",
       " {'author_id': 17287251},\n",
       " {'author_id': 417307513},\n",
       " {'author_id': 141272779},\n",
       " {'author_id': 17287251},\n",
       " {'author_id': 212364786},\n",
       " {'author_id': 2147483647},\n",
       " {'author_id': 7154412},\n",
       " {'author_id': 1232105203},\n",
       " {'author_id': 2147483647},\n",
       " {'author_id': 163586106},\n",
       " {'author_id': 41545659},\n",
       " {'author_id': 41545659},\n",
       " {'author_id': 41545659},\n",
       " {'author_id': 2147483647},\n",
       " {'author_id': 2147483647},\n",
       " {'author_id': 2147483647},\n",
       " {'author_id': 2147483647},\n",
       " {'author_id': 2147483647},\n",
       " {'author_id': 1003872445},\n",
       " {'author_id': 570795448},\n",
       " {'author_id': 271028835},\n",
       " {'author_id': 2147483647},\n",
       " {'author_id': 10279282},\n",
       " {'author_id': 2147483647},\n",
       " {'author_id': 2147483647}]"
      ]
     },
     "execution_count": 78,
     "metadata": {},
     "output_type": "execute_result"
    }
   ],
   "source": [
    "# leemos los datos para comprobar que se han ingestado correctamente\n",
    "sql = '''SELECT * FROM users'''\n",
    "cursor.execute(sql)\n",
    "mi_tabla = cursor.fetchall()\n",
    "mi_tabla"
   ]
  },
  {
   "cell_type": "code",
   "execution_count": 29,
   "metadata": {},
   "outputs": [
    {
     "data": {
      "text/html": [
       "<div>\n",
       "<style scoped>\n",
       "    .dataframe tbody tr th:only-of-type {\n",
       "        vertical-align: middle;\n",
       "    }\n",
       "\n",
       "    .dataframe tbody tr th {\n",
       "        vertical-align: top;\n",
       "    }\n",
       "\n",
       "    .dataframe thead th {\n",
       "        text-align: right;\n",
       "    }\n",
       "</style>\n",
       "<table border=\"1\" class=\"dataframe\">\n",
       "  <thead>\n",
       "    <tr style=\"text-align: right;\">\n",
       "      <th></th>\n",
       "      <th>id</th>\n",
       "      <th>name</th>\n",
       "      <th>continent</th>\n",
       "      <th>population</th>\n",
       "      <th>gdp</th>\n",
       "    </tr>\n",
       "  </thead>\n",
       "  <tbody>\n",
       "    <tr>\n",
       "      <th>0</th>\n",
       "      <td>1</td>\n",
       "      <td>Spain</td>\n",
       "      <td>Europe</td>\n",
       "      <td>47</td>\n",
       "      <td>1.74</td>\n",
       "    </tr>\n",
       "    <tr>\n",
       "      <th>1</th>\n",
       "      <td>2</td>\n",
       "      <td>France</td>\n",
       "      <td>Europe</td>\n",
       "      <td>54</td>\n",
       "      <td>2.00</td>\n",
       "    </tr>\n",
       "    <tr>\n",
       "      <th>2</th>\n",
       "      <td>3</td>\n",
       "      <td>Germany</td>\n",
       "      <td>Europe</td>\n",
       "      <td>80</td>\n",
       "      <td>4.30</td>\n",
       "    </tr>\n",
       "    <tr>\n",
       "      <th>3</th>\n",
       "      <td>4</td>\n",
       "      <td>Japan</td>\n",
       "      <td>Asia</td>\n",
       "      <td>126</td>\n",
       "      <td>4.90</td>\n",
       "    </tr>\n",
       "    <tr>\n",
       "      <th>4</th>\n",
       "      <td>5</td>\n",
       "      <td>Argentina</td>\n",
       "      <td>America</td>\n",
       "      <td>44</td>\n",
       "      <td>0.50</td>\n",
       "    </tr>\n",
       "    <tr>\n",
       "      <th>5</th>\n",
       "      <td>6</td>\n",
       "      <td>Brasil</td>\n",
       "      <td>America</td>\n",
       "      <td>209</td>\n",
       "      <td>1.60</td>\n",
       "    </tr>\n",
       "  </tbody>\n",
       "</table>\n",
       "</div>"
      ],
      "text/plain": [
       "   id       name continent  population   gdp\n",
       "0   1      Spain    Europe          47  1.74\n",
       "1   2     France    Europe          54  2.00\n",
       "2   3    Germany    Europe          80  4.30\n",
       "3   4      Japan      Asia         126  4.90\n",
       "4   5  Argentina   America          44  0.50\n",
       "5   6     Brasil   America         209  1.60"
      ]
     },
     "execution_count": 29,
     "metadata": {},
     "output_type": "execute_result"
    }
   ],
   "source": [
    "pd.DataFrame(mi_tabla)"
   ]
  },
  {
   "cell_type": "markdown",
   "metadata": {},
   "source": [
    "### Cerrar la conexión cuando acabemos"
   ]
  },
  {
   "cell_type": "code",
   "execution_count": 79,
   "metadata": {},
   "outputs": [],
   "source": [
    "# Cerrar conexión mysql\n",
    "db.close()\n",
    "# Cerrar conexión sqlalchuemy\n",
    "engine.dispose()"
   ]
  }
 ],
 "metadata": {
  "interpreter": {
   "hash": "90139cb9a825bf3d63f6f6704e828dbd1ff7edbd4d0c6e906a71235d6efc74af"
  },
  "kernelspec": {
   "display_name": "Python 3.7.4 64-bit",
   "language": "python",
   "name": "python3"
  },
  "language_info": {
   "codemirror_mode": {
    "name": "ipython",
    "version": 3
   },
   "file_extension": ".py",
   "mimetype": "text/x-python",
   "name": "python",
   "nbconvert_exporter": "python",
   "pygments_lexer": "ipython3",
   "version": "3.7.4"
  }
 },
 "nbformat": 4,
 "nbformat_minor": 4
}
